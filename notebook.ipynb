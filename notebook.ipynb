{
 "cells": [
  {
   "cell_type": "markdown",
   "metadata": {},
   "source": [
    "\n",
    "    \n",
    "    \n",
    "## <H2 align=\"center\"> <font color='white'> **MAF1731B**: Microstructure and Trading Systems </H2>\n",
    "\n",
    "### <H3 align=\"center\"> <font color='white'> **Project: EUR/USD** Behavior during Initial Jobless Claims statements </H3>\n",
    "\n",
    " <H5 align=\"center\"> <em> Professor: Villalobos Ramos Omar Antonio <em>\n",
    "\n",
    " <p align=\"center\"> <img style=\" margin: 30px 15px 15px 15px;\" src=\"https://pngimage.net/wp-content/uploads/2018/06/logo-iteso-png-5.png\" width=\"350\" height=\"150\" /> \n",
    "\n",
    " <strong> <H5 align=\"left\"> Student:\n",
    "Esteban Márquez Delgado <strong>\n",
    "\n",
    " *Registry*:\n",
    "if700637: https://github.com/EstebanMqz/MyST_Project\n",
    "\n",
    " <center> <font color= #555555> <font size = 4> November 2022 </a> <font color= #555555> <font size = 4> </a></font>"
   ]
  },
  {
   "cell_type": "markdown",
   "metadata": {},
   "source": [
    "<hr style=\"border:0.02in solid gray\"> </hr>"
   ]
  },
  {
   "cell_type": "markdown",
   "metadata": {},
   "source": [
    "<center> <font color= #555555> <font size = 6> Project </font> <br> <br> <font color= #555555> <font size = 5> \n",
    "Project 1: Fundamental Analysis </font>"
   ]
  },
  {
   "cell_type": "markdown",
   "metadata": {},
   "source": [
    "<hr style=\"border:0.02in solid gray\"> </hr>"
   ]
  },
  {
   "cell_type": "markdown",
   "metadata": {},
   "source": [
    "### <font color= #555555> <font size = 4> Abstract </font>"
   ]
  },
  {
   "cell_type": "markdown",
   "metadata": {},
   "source": [
    "This document was prepared as Final Project for Microstructure and Trading Systems - MAF1731B class during the Autumn 2022 course at ITESO for the Bachelor of Financial Engineering. \n",
    "\n",
    "It has the following sections:\n",
    "\n",
    "1. *Description*.\n",
    "\n",
    "2. *Description*.\n",
    "\n",
    "3. *Description*.\n",
    "\n"
   ]
  },
  {
   "cell_type": "markdown",
   "metadata": {},
   "source": [
    "<font color= lightblue> <font size = 4> 0. Libraries and Dependencies: </font>\n",
    "\n",
    "<font color= gray>\n",
    "\n",
    "**Note**: To run this notebook it is necessary to have the following libraries contained in the [requirements.txt](https://github.com/EstebanMqz/MyST_LAB_4/blob/main/requirements.txt) script of this project.\n",
    "\n",
    "To install the libraries in the script run the following cell:"
   ]
  },
  {
   "cell_type": "code",
   "execution_count": 1,
   "metadata": {},
   "outputs": [
    {
     "name": "stderr",
     "output_type": "stream",
     "text": [
      "WARNING: Ignoring invalid distribution -rl (c:\\programdata\\anaconda3\\lib\\site-packages)\n",
      "WARNING: Ignoring invalid distribution -inance (c:\\programdata\\anaconda3\\lib\\site-packages)\n",
      "WARNING: Ignoring invalid distribution -ywinpty (c:\\programdata\\anaconda3\\lib\\site-packages)\n",
      "WARNING: Ignoring invalid distribution -umpy (c:\\programdata\\anaconda3\\lib\\site-packages)\n",
      "WARNING: Ignoring invalid distribution -rl (c:\\programdata\\anaconda3\\lib\\site-packages)\n",
      "WARNING: Ignoring invalid distribution -finance (c:\\programdata\\anaconda3\\lib\\site-packages)\n",
      "WARNING: Ignoring invalid distribution - (c:\\programdata\\anaconda3\\lib\\site-packages)\n",
      "WARNING: Ignoring invalid distribution -arl (c:\\programdata\\anaconda3\\lib\\site-packages)\n",
      "ERROR: Invalid requirement: '\"\"\"' (from line 1 of requirements.txt)\n",
      "WARNING: Ignoring invalid distribution -rl (c:\\programdata\\anaconda3\\lib\\site-packages)\n",
      "WARNING: Ignoring invalid distribution -inance (c:\\programdata\\anaconda3\\lib\\site-packages)\n",
      "WARNING: Ignoring invalid distribution -ywinpty (c:\\programdata\\anaconda3\\lib\\site-packages)\n",
      "WARNING: Ignoring invalid distribution -umpy (c:\\programdata\\anaconda3\\lib\\site-packages)\n",
      "WARNING: Ignoring invalid distribution -rl (c:\\programdata\\anaconda3\\lib\\site-packages)\n",
      "WARNING: Ignoring invalid distribution -finance (c:\\programdata\\anaconda3\\lib\\site-packages)\n",
      "WARNING: Ignoring invalid distribution - (c:\\programdata\\anaconda3\\lib\\site-packages)\n",
      "WARNING: Ignoring invalid distribution -arl (c:\\programdata\\anaconda3\\lib\\site-packages)\n",
      "WARNING: Ignoring invalid distribution -rl (c:\\programdata\\anaconda3\\lib\\site-packages)\n",
      "WARNING: Ignoring invalid distribution -inance (c:\\programdata\\anaconda3\\lib\\site-packages)\n",
      "WARNING: Ignoring invalid distribution -ywinpty (c:\\programdata\\anaconda3\\lib\\site-packages)\n",
      "WARNING: Ignoring invalid distribution -umpy (c:\\programdata\\anaconda3\\lib\\site-packages)\n",
      "WARNING: Ignoring invalid distribution -rl (c:\\programdata\\anaconda3\\lib\\site-packages)\n",
      "WARNING: Ignoring invalid distribution -finance (c:\\programdata\\anaconda3\\lib\\site-packages)\n",
      "WARNING: Ignoring invalid distribution - (c:\\programdata\\anaconda3\\lib\\site-packages)\n",
      "WARNING: Ignoring invalid distribution -arl (c:\\programdata\\anaconda3\\lib\\site-packages)\n",
      "WARNING: Ignoring invalid distribution -rl (c:\\programdata\\anaconda3\\lib\\site-packages)\n",
      "WARNING: Ignoring invalid distribution -inance (c:\\programdata\\anaconda3\\lib\\site-packages)\n",
      "WARNING: Ignoring invalid distribution -ywinpty (c:\\programdata\\anaconda3\\lib\\site-packages)\n",
      "WARNING: Ignoring invalid distribution -umpy (c:\\programdata\\anaconda3\\lib\\site-packages)\n",
      "WARNING: Ignoring invalid distribution -rl (c:\\programdata\\anaconda3\\lib\\site-packages)\n",
      "WARNING: Ignoring invalid distribution -finance (c:\\programdata\\anaconda3\\lib\\site-packages)\n",
      "WARNING: Ignoring invalid distribution - (c:\\programdata\\anaconda3\\lib\\site-packages)\n",
      "WARNING: Ignoring invalid distribution -arl (c:\\programdata\\anaconda3\\lib\\site-packages)\n"
     ]
    }
   ],
   "source": [
    "!pip install -r requirements.txt"
   ]
  },
  {
   "cell_type": "markdown",
   "metadata": {},
   "source": [
    "If you prefer, manual installation can be done with the individual installation of the following libraries:\n",
    "\n",
    "<font color= lightblue> <font size = 1> \n",
    "+ pandas >= 1.3.4\n",
    "+ pandas_datareader >= 0.10.0\n",
    "+ numpy >= 1.19.1\n",
    "+ jupyter >= 1.0.0\n",
    "+ chart_studio >= 1.1\n",
    "+ plotly >= 5.60\n",
    "+ scipy >= 1.7.3\n",
    "+ regex >= 2022.3.15\n",
    "+ time >= 3.11 \n",
    "+ datetime >= 4.7\n",
    "+ MetaTrader5 >= 5.0.43\n",
    "+ pytz >= 2021.3\n",
    "+ fire >= 0.4.0\n",
    "+ kaleido >= 0.2.1\n"
   ]
  },
  {
   "cell_type": "markdown",
   "metadata": {},
   "source": [
    "### <font color= white> <font size = 4> 0.1 Introduction: </font>\n",
    "\n",
    "<font color= lightblue> <font size = 3> Description: </font>\n",
    "\n",
    "<font color= lightgray>\n",
    "Jobless claims reports are provided on a weekly basis each Thursday at 8.30 am ET by the Employment and Training Administration in Department of Labor and it measures Unemployment Insurance (UI) benefits in the form of weekly payments to eligible workers. \n",
    "\n",
    "\n",
    "The following are the categories for jobless claims:\n",
    "1. **Initial Jobless Claims:** The report is a measure that declares how many citizens filed for state unemployment insurance for the *first time* in the previous week.\n",
    "\n",
    "2. **Continuing Jobless Claims:** It is a measure that states the number of individuals who are already receveing unemployment benefits and they *re-applied* for them in the previous week.\n",
    "\n",
    "It provides Actual, Previous and Consensus estimates in *(thousands)* and it is an important indicator because there's an inverse relationship between jobless claims results and employment:\n",
    "\n",
    "+ As claims decrease, higher consumption and stronger economic growth follows.\n",
    "+ As claims rise, employment numbers fall, consumption decreases and economic growth declines.\n",
    "\n",
    "<font color= lightblue> <font size = 3> Readings: </font>\n",
    "<font color= lightgray>\n",
    "\n",
    "There are two types of readings for reports:\n",
    "\n",
    "+ **Beat**: Lower claims numbers than the market Consensus, *better than expected*.\n",
    "+ **Miss**: Higher claims numbers than the market Consensus, *worse than expected*.\n",
    "\n",
    "\n"
   ]
  },
  {
   "cell_type": "markdown",
   "metadata": {},
   "source": [
    "##### *General help:*\n",
    "<font color= lightgreen> **Note**: Progress checks in sections highlighted. <font color= white>\n",
    "\n",
    "In order, to retrieve specific help from the scripts tree in the project execute the help function on the script or in specific modules from the following:\n",
    "+ [data.py](https://github.com/EstebanMqz/MyST_Project/blob/main/data.py)\n",
    "+ [functions.py](https://github.com/EstebanMqz/MyST_Project/blob/main/functions.py)\n",
    "+ [visualizations.py](https://github.com/EstebanMqz/MyST_Project/blob/main/visualizations.py)"
   ]
  },
  {
   "cell_type": "code",
   "execution_count": 1,
   "metadata": {},
   "outputs": [
    {
     "name": "stderr",
     "output_type": "stream",
     "text": [
      "c:\\ProgramData\\Anaconda3\\lib\\site-packages\\scipy\\__init__.py:146: UserWarning: A NumPy version >=1.16.5 and <1.23.0 is required for this version of SciPy (detected version 1.23.5\n",
      "  warnings.warn(f\"A NumPy version >={np_minversion} and <{np_maxversion}\"\n"
     ]
    }
   ],
   "source": [
    "## Libraries\n",
    "import warnings\n",
    "import pandas as pd # Analysis and data management\n",
    "import pandas_datareader as pdr\n",
    "import pandas_datareader.data as web #Data extraction from the web\n",
    "import numpy as np\n",
    "from datetime import datetime, timedelta, date\n",
    "import datetime\n",
    "import plotly.graph_objects as go #Plotly\n",
    "import plotly.express as px\n",
    "from plotly.subplots import make_subplots \n",
    "from scipy.optimize import minimize # Optimization \n",
    "from collections import Counter #Counter\n",
    "import time\n",
    "import re\n",
    "import io \n",
    "import glob\n",
    "import os\n",
    "#.Py archives in repo\n",
    "import functions as fn \n",
    "import visualizations as vs\n",
    "import data as dt\n",
    "from os import path\n",
    "import fire\n",
    "import MetaTrader5 as mt5 #Mt5 lib\n",
    "import pytz #Timezone module\n",
    "%matplotlib inline"
   ]
  },
  {
   "cell_type": "markdown",
   "metadata": {},
   "source": [
    "<font color= orange> <font size = 5> 1. Section 1 </font>"
   ]
  },
  {
   "cell_type": "code",
   "execution_count": 2,
   "metadata": {},
   "outputs": [
    {
     "name": "stdout",
     "output_type": "stream",
     "text": [
      "Help on function read_indicator in module data:\n",
      "\n",
      "read_indicator(indicator, date)\n",
      "    Function that reads a .csv or .txt file contaning data \n",
      "    of economic indicators Actual, Previous and Consensus estimates.\n",
      "    \n",
      "    Parameters\n",
      "    ----------\n",
      "    + indicator: Economic indicator contained in files with Datetime,\n",
      "    Actual, Previous and Consensus estimates va\n",
      "    lues in cols (string).\n",
      "    + date: start_date for data extraction of given indicator ('YYYY-MM-DD').\n",
      "    -------\n",
      "    Returns: Historic data with Datetime, Actual, Previous and Consensus \n",
      "    estimates values in cols. (dataframe).\n",
      "\n"
     ]
    }
   ],
   "source": [
    "help(dt.read_indicator)"
   ]
  },
  {
   "cell_type": "code",
   "execution_count": 3,
   "metadata": {},
   "outputs": [
    {
     "data": {
      "text/html": [
       "<div>\n",
       "<style scoped>\n",
       "    .dataframe tbody tr th:only-of-type {\n",
       "        vertical-align: middle;\n",
       "    }\n",
       "\n",
       "    .dataframe tbody tr th {\n",
       "        vertical-align: top;\n",
       "    }\n",
       "\n",
       "    .dataframe thead th {\n",
       "        text-align: right;\n",
       "    }\n",
       "</style>\n",
       "<table border=\"1\" class=\"dataframe\">\n",
       "  <thead>\n",
       "    <tr style=\"text-align: right;\">\n",
       "      <th></th>\n",
       "      <th>DateTime</th>\n",
       "      <th>Actual</th>\n",
       "      <th>Consensus</th>\n",
       "      <th>Previous</th>\n",
       "    </tr>\n",
       "  </thead>\n",
       "  <tbody>\n",
       "    <tr>\n",
       "      <th>0</th>\n",
       "      <td>2020-02-06 13:30:00</td>\n",
       "      <td>202.0</td>\n",
       "      <td>215.0</td>\n",
       "      <td>216.0</td>\n",
       "    </tr>\n",
       "    <tr>\n",
       "      <th>1</th>\n",
       "      <td>2020-01-30 13:30:00</td>\n",
       "      <td>216.0</td>\n",
       "      <td>215.0</td>\n",
       "      <td>211.0</td>\n",
       "    </tr>\n",
       "    <tr>\n",
       "      <th>2</th>\n",
       "      <td>2020-01-23 13:30:00</td>\n",
       "      <td>211.0</td>\n",
       "      <td>215.0</td>\n",
       "      <td>204.0</td>\n",
       "    </tr>\n",
       "    <tr>\n",
       "      <th>3</th>\n",
       "      <td>2020-01-16 13:30:00</td>\n",
       "      <td>204.0</td>\n",
       "      <td>216.0</td>\n",
       "      <td>214.0</td>\n",
       "    </tr>\n",
       "    <tr>\n",
       "      <th>4</th>\n",
       "      <td>2020-01-09 13:30:00</td>\n",
       "      <td>214.0</td>\n",
       "      <td>220.0</td>\n",
       "      <td>222.0</td>\n",
       "    </tr>\n",
       "  </tbody>\n",
       "</table>\n",
       "</div>"
      ],
      "text/plain": [
       "             DateTime  Actual  Consensus  Previous\n",
       "0 2020-02-06 13:30:00   202.0      215.0     216.0\n",
       "1 2020-01-30 13:30:00   216.0      215.0     211.0\n",
       "2 2020-01-23 13:30:00   211.0      215.0     204.0\n",
       "3 2020-01-16 13:30:00   204.0      216.0     214.0\n",
       "4 2020-01-09 13:30:00   214.0      220.0     222.0"
      ]
     },
     "execution_count": 3,
     "metadata": {},
     "output_type": "execute_result"
    }
   ],
   "source": [
    "date = '2018-01-01'\n",
    "data_raw=dt.read_indicator('Initial_Jobless_Claims_US.txt', date)\n",
    "data_raw.head()"
   ]
  },
  {
   "cell_type": "code",
   "execution_count": 4,
   "metadata": {},
   "outputs": [
    {
     "data": {
      "text/html": [
       "<div>\n",
       "<style scoped>\n",
       "    .dataframe tbody tr th:only-of-type {\n",
       "        vertical-align: middle;\n",
       "    }\n",
       "\n",
       "    .dataframe tbody tr th {\n",
       "        vertical-align: top;\n",
       "    }\n",
       "\n",
       "    .dataframe thead th {\n",
       "        text-align: right;\n",
       "    }\n",
       "</style>\n",
       "<table border=\"1\" class=\"dataframe\">\n",
       "  <thead>\n",
       "    <tr style=\"text-align: right;\">\n",
       "      <th></th>\n",
       "      <th>DateTime</th>\n",
       "      <th>Actual</th>\n",
       "      <th>Consensus</th>\n",
       "      <th>Previous</th>\n",
       "    </tr>\n",
       "  </thead>\n",
       "  <tbody>\n",
       "    <tr>\n",
       "      <th>105</th>\n",
       "      <td>2018-02-01 13:30:00</td>\n",
       "      <td>230.0</td>\n",
       "      <td>238.0</td>\n",
       "      <td>233.0</td>\n",
       "    </tr>\n",
       "    <tr>\n",
       "      <th>106</th>\n",
       "      <td>2018-01-25 13:30:00</td>\n",
       "      <td>233.0</td>\n",
       "      <td>240.0</td>\n",
       "      <td>220.0</td>\n",
       "    </tr>\n",
       "    <tr>\n",
       "      <th>107</th>\n",
       "      <td>2018-01-18 13:30:00</td>\n",
       "      <td>220.0</td>\n",
       "      <td>250.0</td>\n",
       "      <td>261.0</td>\n",
       "    </tr>\n",
       "    <tr>\n",
       "      <th>108</th>\n",
       "      <td>2018-01-11 13:30:00</td>\n",
       "      <td>261.0</td>\n",
       "      <td>245.0</td>\n",
       "      <td>250.0</td>\n",
       "    </tr>\n",
       "    <tr>\n",
       "      <th>109</th>\n",
       "      <td>2018-01-04 13:30:00</td>\n",
       "      <td>250.0</td>\n",
       "      <td>240.0</td>\n",
       "      <td>245.0</td>\n",
       "    </tr>\n",
       "  </tbody>\n",
       "</table>\n",
       "</div>"
      ],
      "text/plain": [
       "               DateTime  Actual  Consensus  Previous\n",
       "105 2018-02-01 13:30:00   230.0      238.0     233.0\n",
       "106 2018-01-25 13:30:00   233.0      240.0     220.0\n",
       "107 2018-01-18 13:30:00   220.0      250.0     261.0\n",
       "108 2018-01-11 13:30:00   261.0      245.0     250.0\n",
       "109 2018-01-04 13:30:00   250.0      240.0     245.0"
      ]
     },
     "execution_count": 4,
     "metadata": {},
     "output_type": "execute_result"
    }
   ],
   "source": [
    "data_raw.tail()"
   ]
  },
  {
   "cell_type": "code",
   "execution_count": 5,
   "metadata": {},
   "outputs": [
    {
     "name": "stdout",
     "output_type": "stream",
     "text": [
      "Help on function plotly_graph2 in module visualizations:\n",
      "\n",
      "plotly_graph2(x, y1, y2, name1, name2, x_label, y_label, title)\n",
      "    Function that plots a two-traced line+marker graph with plotly for Actual values and \n",
      "    Consensus estimates from time-series weekly statements reports.\n",
      "    \n",
      "        Parameters\n",
      "        ----------\n",
      "        x: Datetime values should be set as index for plotly chart. \n",
      "        y1: Values of reports results (Ac, Pr, Est) in df cols. \n",
      "        y2: Values of reports results (Ac, Pr, Est) in df cols.  \n",
      "        name1: Label of y1 trace (str). \n",
      "        name2: Label of y2 trace (str). \n",
      "        x_label: xlabel for plot (str). \n",
      "        y_label: y_label for plot (str).          \n",
      "        title: Title of the plot (str). \n",
      "    \n",
      "        Returns\n",
      "        -------\n",
      "        Returns 2 traces (y1,y2) in a didactic graph with plotly for x.\n",
      "\n"
     ]
    }
   ],
   "source": [
    "help(vs.plotly_graph2)"
   ]
  },
  {
   "cell_type": "code",
   "execution_count": 6,
   "metadata": {},
   "outputs": [
    {
     "data": {
      "application/vnd.plotly.v1+json": {
       "config": {
        "plotlyServerURL": "https://plot.ly"
       },
       "data": [
        {
         "line": {
          "color": "black"
         },
         "marker": {
          "color": "blue",
          "symbol": 2
         },
         "mode": "lines+markers",
         "name": "Actual",
         "type": "scatter",
         "x": [
          "2020-02-06T13:30:00",
          "2020-01-30T13:30:00",
          "2020-01-23T13:30:00",
          "2020-01-16T13:30:00",
          "2020-01-09T13:30:00",
          "2020-01-02T13:30:00",
          "2019-12-26T13:30:00",
          "2019-12-19T13:30:00",
          "2019-12-12T13:30:00",
          "2019-12-05T13:30:00",
          "2019-11-27T13:30:00",
          "2019-11-21T13:30:00",
          "2019-11-14T13:30:00",
          "2019-11-07T13:30:00",
          "2019-10-31T12:30:00",
          "2019-10-24T12:30:00",
          "2019-10-17T12:30:00",
          "2019-10-10T12:30:00",
          "2019-10-03T12:30:00",
          "2019-09-26T12:30:00",
          "2019-09-19T12:30:00",
          "2019-09-12T12:30:00",
          "2019-09-05T12:30:00",
          "2019-08-29T12:30:00",
          "2019-08-22T12:30:00",
          "2019-08-15T12:30:00",
          "2019-08-08T12:30:00",
          "2019-08-01T12:30:00",
          "2019-07-25T12:30:00",
          "2019-07-18T12:30:00",
          "2019-07-11T12:30:00",
          "2019-07-03T12:30:00",
          "2019-06-27T12:30:00",
          "2019-06-20T12:30:00",
          "2019-06-13T12:30:00",
          "2019-06-06T12:30:00",
          "2019-05-30T12:30:00",
          "2019-05-23T12:30:00",
          "2019-05-16T12:30:00",
          "2019-05-09T12:30:00",
          "2019-05-02T12:30:00",
          "2019-04-25T12:30:00",
          "2019-04-18T12:30:00",
          "2019-04-11T12:30:00",
          "2019-04-04T12:30:00",
          "2019-03-28T12:30:00",
          "2019-03-21T12:30:00",
          "2019-03-14T12:30:00",
          "2019-03-07T13:30:00",
          "2019-02-28T13:30:00",
          "2019-02-21T13:30:00",
          "2019-02-14T13:30:00",
          "2019-02-07T13:30:00",
          "2019-01-31T13:30:00",
          "2019-01-24T13:30:00",
          "2019-01-17T13:30:00",
          "2019-01-10T13:30:00",
          "2019-01-03T13:30:00",
          "2018-12-27T13:30:00",
          "2018-12-20T13:30:00",
          "2018-12-13T13:30:00",
          "2018-12-06T13:30:00",
          "2018-11-29T13:30:00",
          "2018-11-21T13:30:00",
          "2018-11-15T13:30:00",
          "2018-11-08T13:30:00",
          "2018-11-01T12:30:00",
          "2018-10-25T12:30:00",
          "2018-10-18T12:30:00",
          "2018-10-11T12:30:00",
          "2018-10-04T12:30:00",
          "2018-09-27T12:30:00",
          "2018-09-20T12:30:00",
          "2018-09-13T12:30:00",
          "2018-09-06T12:30:00",
          "2018-08-30T12:30:00",
          "2018-08-23T12:30:00",
          "2018-08-16T12:30:00",
          "2018-08-09T12:30:00",
          "2018-08-02T12:30:00",
          "2018-07-26T12:30:00",
          "2018-07-19T12:30:00",
          "2018-07-12T12:30:00",
          "2018-07-05T12:30:00",
          "2018-06-28T12:30:00",
          "2018-06-21T12:30:00",
          "2018-06-14T12:30:00",
          "2018-06-07T12:30:00",
          "2018-05-31T12:30:00",
          "2018-05-24T12:30:00",
          "2018-05-17T12:30:00",
          "2018-05-10T12:30:00",
          "2018-05-03T12:30:00",
          "2018-04-26T12:30:00",
          "2018-04-19T12:30:00",
          "2018-04-12T12:30:00",
          "2018-04-05T12:30:00",
          "2018-03-29T12:30:00",
          "2018-03-22T12:30:00",
          "2018-03-15T12:30:00",
          "2018-03-08T13:30:00",
          "2018-03-01T13:30:00",
          "2018-02-22T13:30:00",
          "2018-02-15T13:30:00",
          "2018-02-08T13:30:00",
          "2018-02-01T13:30:00",
          "2018-01-25T13:30:00",
          "2018-01-18T13:30:00",
          "2018-01-11T13:30:00",
          "2018-01-04T13:30:00"
         ],
         "y": [
          202,
          216,
          211,
          204,
          214,
          222,
          222,
          234,
          252,
          203,
          213,
          227,
          225,
          211,
          218,
          212,
          214,
          210,
          219,
          213,
          208,
          204,
          217,
          215,
          209,
          220,
          209,
          215,
          206,
          216,
          209,
          221,
          227,
          216,
          222,
          218,
          215,
          211,
          212,
          228,
          230,
          230,
          192,
          196,
          202,
          211,
          221,
          229,
          223,
          225,
          216,
          239,
          234,
          253,
          199,
          213,
          216,
          231,
          216,
          214,
          206,
          231,
          234,
          224,
          216,
          214,
          214,
          215,
          210,
          214,
          207,
          214,
          201,
          204,
          203,
          213,
          210,
          212,
          213,
          218,
          217,
          207,
          214,
          231,
          227,
          218,
          218,
          222,
          221,
          234,
          222,
          211,
          211,
          209,
          232,
          233,
          242,
          215,
          229,
          226,
          231,
          210,
          222,
          230,
          221,
          230,
          233,
          220,
          261,
          250
         ]
        },
        {
         "line": {
          "color": "black"
         },
         "marker": {
          "color": "green",
          "symbol": 2
         },
         "mode": "lines+markers",
         "name": "Consensus",
         "type": "scatter",
         "x": [
          "2020-02-06T13:30:00",
          "2020-01-30T13:30:00",
          "2020-01-23T13:30:00",
          "2020-01-16T13:30:00",
          "2020-01-09T13:30:00",
          "2020-01-02T13:30:00",
          "2019-12-26T13:30:00",
          "2019-12-19T13:30:00",
          "2019-12-12T13:30:00",
          "2019-12-05T13:30:00",
          "2019-11-27T13:30:00",
          "2019-11-21T13:30:00",
          "2019-11-14T13:30:00",
          "2019-11-07T13:30:00",
          "2019-10-31T12:30:00",
          "2019-10-24T12:30:00",
          "2019-10-17T12:30:00",
          "2019-10-10T12:30:00",
          "2019-10-03T12:30:00",
          "2019-09-26T12:30:00",
          "2019-09-19T12:30:00",
          "2019-09-12T12:30:00",
          "2019-09-05T12:30:00",
          "2019-08-29T12:30:00",
          "2019-08-22T12:30:00",
          "2019-08-15T12:30:00",
          "2019-08-08T12:30:00",
          "2019-08-01T12:30:00",
          "2019-07-25T12:30:00",
          "2019-07-18T12:30:00",
          "2019-07-11T12:30:00",
          "2019-07-03T12:30:00",
          "2019-06-27T12:30:00",
          "2019-06-20T12:30:00",
          "2019-06-13T12:30:00",
          "2019-06-06T12:30:00",
          "2019-05-30T12:30:00",
          "2019-05-23T12:30:00",
          "2019-05-16T12:30:00",
          "2019-05-09T12:30:00",
          "2019-05-02T12:30:00",
          "2019-04-25T12:30:00",
          "2019-04-18T12:30:00",
          "2019-04-11T12:30:00",
          "2019-04-04T12:30:00",
          "2019-03-28T12:30:00",
          "2019-03-21T12:30:00",
          "2019-03-14T12:30:00",
          "2019-03-07T13:30:00",
          "2019-02-28T13:30:00",
          "2019-02-21T13:30:00",
          "2019-02-14T13:30:00",
          "2019-02-07T13:30:00",
          "2019-01-31T13:30:00",
          "2019-01-24T13:30:00",
          "2019-01-17T13:30:00",
          "2019-01-10T13:30:00",
          "2019-01-03T13:30:00",
          "2018-12-27T13:30:00",
          "2018-12-20T13:30:00",
          "2018-12-13T13:30:00",
          "2018-12-06T13:30:00",
          "2018-11-29T13:30:00",
          "2018-11-21T13:30:00",
          "2018-11-15T13:30:00",
          "2018-11-08T13:30:00",
          "2018-11-01T12:30:00",
          "2018-10-25T12:30:00",
          "2018-10-18T12:30:00",
          "2018-10-11T12:30:00",
          "2018-10-04T12:30:00",
          "2018-09-27T12:30:00",
          "2018-09-20T12:30:00",
          "2018-09-13T12:30:00",
          "2018-09-06T12:30:00",
          "2018-08-30T12:30:00",
          "2018-08-23T12:30:00",
          "2018-08-16T12:30:00",
          "2018-08-09T12:30:00",
          "2018-08-02T12:30:00",
          "2018-07-26T12:30:00",
          "2018-07-19T12:30:00",
          "2018-07-12T12:30:00",
          "2018-07-05T12:30:00",
          "2018-06-28T12:30:00",
          "2018-06-21T12:30:00",
          "2018-06-14T12:30:00",
          "2018-06-07T12:30:00",
          "2018-05-31T12:30:00",
          "2018-05-24T12:30:00",
          "2018-05-17T12:30:00",
          "2018-05-10T12:30:00",
          "2018-05-03T12:30:00",
          "2018-04-26T12:30:00",
          "2018-04-19T12:30:00",
          "2018-04-12T12:30:00",
          "2018-04-05T12:30:00",
          "2018-03-29T12:30:00",
          "2018-03-22T12:30:00",
          "2018-03-15T12:30:00",
          "2018-03-08T13:30:00",
          "2018-03-01T13:30:00",
          "2018-02-22T13:30:00",
          "2018-02-15T13:30:00",
          "2018-02-08T13:30:00",
          "2018-02-01T13:30:00",
          "2018-01-25T13:30:00",
          "2018-01-18T13:30:00",
          "2018-01-11T13:30:00",
          "2018-01-04T13:30:00"
         ],
         "y": [
          215,
          215,
          215,
          216,
          220,
          225,
          224,
          225,
          213,
          215,
          221,
          219,
          215,
          215,
          215,
          215,
          215,
          219,
          215,
          212,
          213,
          215,
          215,
          215,
          216,
          214,
          215,
          214,
          219,
          216,
          223,
          223,
          220,
          220,
          216,
          215,
          215,
          215,
          220,
          220,
          215,
          200,
          205,
          211,
          216,
          225,
          225,
          225,
          225,
          220,
          229,
          225,
          221,
          215,
          220,
          220,
          225,
          220,
          217,
          216,
          225,
          225,
          220,
          215,
          212,
          214,
          213,
          214,
          212,
          206,
          213,
          210,
          210,
          210,
          214,
          214,
          215,
          215,
          220,
          220,
          215,
          220,
          225,
          225,
          220,
          220,
          224,
          225,
          228,
          220,
          215,
          218,
          225,
          230,
          230,
          230,
          225,
          230,
          225,
          226,
          220,
          226,
          230,
          230,
          232,
          238,
          240,
          250,
          245,
          240
         ]
        }
       ],
       "layout": {
        "template": {
         "data": {
          "bar": [
           {
            "error_x": {
             "color": "#2a3f5f"
            },
            "error_y": {
             "color": "#2a3f5f"
            },
            "marker": {
             "line": {
              "color": "#E5ECF6",
              "width": 0.5
             },
             "pattern": {
              "fillmode": "overlay",
              "size": 10,
              "solidity": 0.2
             }
            },
            "type": "bar"
           }
          ],
          "barpolar": [
           {
            "marker": {
             "line": {
              "color": "#E5ECF6",
              "width": 0.5
             },
             "pattern": {
              "fillmode": "overlay",
              "size": 10,
              "solidity": 0.2
             }
            },
            "type": "barpolar"
           }
          ],
          "carpet": [
           {
            "aaxis": {
             "endlinecolor": "#2a3f5f",
             "gridcolor": "white",
             "linecolor": "white",
             "minorgridcolor": "white",
             "startlinecolor": "#2a3f5f"
            },
            "baxis": {
             "endlinecolor": "#2a3f5f",
             "gridcolor": "white",
             "linecolor": "white",
             "minorgridcolor": "white",
             "startlinecolor": "#2a3f5f"
            },
            "type": "carpet"
           }
          ],
          "choropleth": [
           {
            "colorbar": {
             "outlinewidth": 0,
             "ticks": ""
            },
            "type": "choropleth"
           }
          ],
          "contour": [
           {
            "colorbar": {
             "outlinewidth": 0,
             "ticks": ""
            },
            "colorscale": [
             [
              0,
              "#0d0887"
             ],
             [
              0.1111111111111111,
              "#46039f"
             ],
             [
              0.2222222222222222,
              "#7201a8"
             ],
             [
              0.3333333333333333,
              "#9c179e"
             ],
             [
              0.4444444444444444,
              "#bd3786"
             ],
             [
              0.5555555555555556,
              "#d8576b"
             ],
             [
              0.6666666666666666,
              "#ed7953"
             ],
             [
              0.7777777777777778,
              "#fb9f3a"
             ],
             [
              0.8888888888888888,
              "#fdca26"
             ],
             [
              1,
              "#f0f921"
             ]
            ],
            "type": "contour"
           }
          ],
          "contourcarpet": [
           {
            "colorbar": {
             "outlinewidth": 0,
             "ticks": ""
            },
            "type": "contourcarpet"
           }
          ],
          "heatmap": [
           {
            "colorbar": {
             "outlinewidth": 0,
             "ticks": ""
            },
            "colorscale": [
             [
              0,
              "#0d0887"
             ],
             [
              0.1111111111111111,
              "#46039f"
             ],
             [
              0.2222222222222222,
              "#7201a8"
             ],
             [
              0.3333333333333333,
              "#9c179e"
             ],
             [
              0.4444444444444444,
              "#bd3786"
             ],
             [
              0.5555555555555556,
              "#d8576b"
             ],
             [
              0.6666666666666666,
              "#ed7953"
             ],
             [
              0.7777777777777778,
              "#fb9f3a"
             ],
             [
              0.8888888888888888,
              "#fdca26"
             ],
             [
              1,
              "#f0f921"
             ]
            ],
            "type": "heatmap"
           }
          ],
          "heatmapgl": [
           {
            "colorbar": {
             "outlinewidth": 0,
             "ticks": ""
            },
            "colorscale": [
             [
              0,
              "#0d0887"
             ],
             [
              0.1111111111111111,
              "#46039f"
             ],
             [
              0.2222222222222222,
              "#7201a8"
             ],
             [
              0.3333333333333333,
              "#9c179e"
             ],
             [
              0.4444444444444444,
              "#bd3786"
             ],
             [
              0.5555555555555556,
              "#d8576b"
             ],
             [
              0.6666666666666666,
              "#ed7953"
             ],
             [
              0.7777777777777778,
              "#fb9f3a"
             ],
             [
              0.8888888888888888,
              "#fdca26"
             ],
             [
              1,
              "#f0f921"
             ]
            ],
            "type": "heatmapgl"
           }
          ],
          "histogram": [
           {
            "marker": {
             "pattern": {
              "fillmode": "overlay",
              "size": 10,
              "solidity": 0.2
             }
            },
            "type": "histogram"
           }
          ],
          "histogram2d": [
           {
            "colorbar": {
             "outlinewidth": 0,
             "ticks": ""
            },
            "colorscale": [
             [
              0,
              "#0d0887"
             ],
             [
              0.1111111111111111,
              "#46039f"
             ],
             [
              0.2222222222222222,
              "#7201a8"
             ],
             [
              0.3333333333333333,
              "#9c179e"
             ],
             [
              0.4444444444444444,
              "#bd3786"
             ],
             [
              0.5555555555555556,
              "#d8576b"
             ],
             [
              0.6666666666666666,
              "#ed7953"
             ],
             [
              0.7777777777777778,
              "#fb9f3a"
             ],
             [
              0.8888888888888888,
              "#fdca26"
             ],
             [
              1,
              "#f0f921"
             ]
            ],
            "type": "histogram2d"
           }
          ],
          "histogram2dcontour": [
           {
            "colorbar": {
             "outlinewidth": 0,
             "ticks": ""
            },
            "colorscale": [
             [
              0,
              "#0d0887"
             ],
             [
              0.1111111111111111,
              "#46039f"
             ],
             [
              0.2222222222222222,
              "#7201a8"
             ],
             [
              0.3333333333333333,
              "#9c179e"
             ],
             [
              0.4444444444444444,
              "#bd3786"
             ],
             [
              0.5555555555555556,
              "#d8576b"
             ],
             [
              0.6666666666666666,
              "#ed7953"
             ],
             [
              0.7777777777777778,
              "#fb9f3a"
             ],
             [
              0.8888888888888888,
              "#fdca26"
             ],
             [
              1,
              "#f0f921"
             ]
            ],
            "type": "histogram2dcontour"
           }
          ],
          "mesh3d": [
           {
            "colorbar": {
             "outlinewidth": 0,
             "ticks": ""
            },
            "type": "mesh3d"
           }
          ],
          "parcoords": [
           {
            "line": {
             "colorbar": {
              "outlinewidth": 0,
              "ticks": ""
             }
            },
            "type": "parcoords"
           }
          ],
          "pie": [
           {
            "automargin": true,
            "type": "pie"
           }
          ],
          "scatter": [
           {
            "marker": {
             "colorbar": {
              "outlinewidth": 0,
              "ticks": ""
             }
            },
            "type": "scatter"
           }
          ],
          "scatter3d": [
           {
            "line": {
             "colorbar": {
              "outlinewidth": 0,
              "ticks": ""
             }
            },
            "marker": {
             "colorbar": {
              "outlinewidth": 0,
              "ticks": ""
             }
            },
            "type": "scatter3d"
           }
          ],
          "scattercarpet": [
           {
            "marker": {
             "colorbar": {
              "outlinewidth": 0,
              "ticks": ""
             }
            },
            "type": "scattercarpet"
           }
          ],
          "scattergeo": [
           {
            "marker": {
             "colorbar": {
              "outlinewidth": 0,
              "ticks": ""
             }
            },
            "type": "scattergeo"
           }
          ],
          "scattergl": [
           {
            "marker": {
             "colorbar": {
              "outlinewidth": 0,
              "ticks": ""
             }
            },
            "type": "scattergl"
           }
          ],
          "scattermapbox": [
           {
            "marker": {
             "colorbar": {
              "outlinewidth": 0,
              "ticks": ""
             }
            },
            "type": "scattermapbox"
           }
          ],
          "scatterpolar": [
           {
            "marker": {
             "colorbar": {
              "outlinewidth": 0,
              "ticks": ""
             }
            },
            "type": "scatterpolar"
           }
          ],
          "scatterpolargl": [
           {
            "marker": {
             "colorbar": {
              "outlinewidth": 0,
              "ticks": ""
             }
            },
            "type": "scatterpolargl"
           }
          ],
          "scatterternary": [
           {
            "marker": {
             "colorbar": {
              "outlinewidth": 0,
              "ticks": ""
             }
            },
            "type": "scatterternary"
           }
          ],
          "surface": [
           {
            "colorbar": {
             "outlinewidth": 0,
             "ticks": ""
            },
            "colorscale": [
             [
              0,
              "#0d0887"
             ],
             [
              0.1111111111111111,
              "#46039f"
             ],
             [
              0.2222222222222222,
              "#7201a8"
             ],
             [
              0.3333333333333333,
              "#9c179e"
             ],
             [
              0.4444444444444444,
              "#bd3786"
             ],
             [
              0.5555555555555556,
              "#d8576b"
             ],
             [
              0.6666666666666666,
              "#ed7953"
             ],
             [
              0.7777777777777778,
              "#fb9f3a"
             ],
             [
              0.8888888888888888,
              "#fdca26"
             ],
             [
              1,
              "#f0f921"
             ]
            ],
            "type": "surface"
           }
          ],
          "table": [
           {
            "cells": {
             "fill": {
              "color": "#EBF0F8"
             },
             "line": {
              "color": "white"
             }
            },
            "header": {
             "fill": {
              "color": "#C8D4E3"
             },
             "line": {
              "color": "white"
             }
            },
            "type": "table"
           }
          ]
         },
         "layout": {
          "annotationdefaults": {
           "arrowcolor": "#2a3f5f",
           "arrowhead": 0,
           "arrowwidth": 1
          },
          "autotypenumbers": "strict",
          "coloraxis": {
           "colorbar": {
            "outlinewidth": 0,
            "ticks": ""
           }
          },
          "colorscale": {
           "diverging": [
            [
             0,
             "#8e0152"
            ],
            [
             0.1,
             "#c51b7d"
            ],
            [
             0.2,
             "#de77ae"
            ],
            [
             0.3,
             "#f1b6da"
            ],
            [
             0.4,
             "#fde0ef"
            ],
            [
             0.5,
             "#f7f7f7"
            ],
            [
             0.6,
             "#e6f5d0"
            ],
            [
             0.7,
             "#b8e186"
            ],
            [
             0.8,
             "#7fbc41"
            ],
            [
             0.9,
             "#4d9221"
            ],
            [
             1,
             "#276419"
            ]
           ],
           "sequential": [
            [
             0,
             "#0d0887"
            ],
            [
             0.1111111111111111,
             "#46039f"
            ],
            [
             0.2222222222222222,
             "#7201a8"
            ],
            [
             0.3333333333333333,
             "#9c179e"
            ],
            [
             0.4444444444444444,
             "#bd3786"
            ],
            [
             0.5555555555555556,
             "#d8576b"
            ],
            [
             0.6666666666666666,
             "#ed7953"
            ],
            [
             0.7777777777777778,
             "#fb9f3a"
            ],
            [
             0.8888888888888888,
             "#fdca26"
            ],
            [
             1,
             "#f0f921"
            ]
           ],
           "sequentialminus": [
            [
             0,
             "#0d0887"
            ],
            [
             0.1111111111111111,
             "#46039f"
            ],
            [
             0.2222222222222222,
             "#7201a8"
            ],
            [
             0.3333333333333333,
             "#9c179e"
            ],
            [
             0.4444444444444444,
             "#bd3786"
            ],
            [
             0.5555555555555556,
             "#d8576b"
            ],
            [
             0.6666666666666666,
             "#ed7953"
            ],
            [
             0.7777777777777778,
             "#fb9f3a"
            ],
            [
             0.8888888888888888,
             "#fdca26"
            ],
            [
             1,
             "#f0f921"
            ]
           ]
          },
          "colorway": [
           "#636efa",
           "#EF553B",
           "#00cc96",
           "#ab63fa",
           "#FFA15A",
           "#19d3f3",
           "#FF6692",
           "#B6E880",
           "#FF97FF",
           "#FECB52"
          ],
          "font": {
           "color": "#2a3f5f"
          },
          "geo": {
           "bgcolor": "white",
           "lakecolor": "white",
           "landcolor": "#E5ECF6",
           "showlakes": true,
           "showland": true,
           "subunitcolor": "white"
          },
          "hoverlabel": {
           "align": "left"
          },
          "hovermode": "closest",
          "mapbox": {
           "style": "light"
          },
          "paper_bgcolor": "white",
          "plot_bgcolor": "#E5ECF6",
          "polar": {
           "angularaxis": {
            "gridcolor": "white",
            "linecolor": "white",
            "ticks": ""
           },
           "bgcolor": "#E5ECF6",
           "radialaxis": {
            "gridcolor": "white",
            "linecolor": "white",
            "ticks": ""
           }
          },
          "scene": {
           "xaxis": {
            "backgroundcolor": "#E5ECF6",
            "gridcolor": "white",
            "gridwidth": 2,
            "linecolor": "white",
            "showbackground": true,
            "ticks": "",
            "zerolinecolor": "white"
           },
           "yaxis": {
            "backgroundcolor": "#E5ECF6",
            "gridcolor": "white",
            "gridwidth": 2,
            "linecolor": "white",
            "showbackground": true,
            "ticks": "",
            "zerolinecolor": "white"
           },
           "zaxis": {
            "backgroundcolor": "#E5ECF6",
            "gridcolor": "white",
            "gridwidth": 2,
            "linecolor": "white",
            "showbackground": true,
            "ticks": "",
            "zerolinecolor": "white"
           }
          },
          "shapedefaults": {
           "line": {
            "color": "#2a3f5f"
           }
          },
          "ternary": {
           "aaxis": {
            "gridcolor": "white",
            "linecolor": "white",
            "ticks": ""
           },
           "baxis": {
            "gridcolor": "white",
            "linecolor": "white",
            "ticks": ""
           },
           "bgcolor": "#E5ECF6",
           "caxis": {
            "gridcolor": "white",
            "linecolor": "white",
            "ticks": ""
           }
          },
          "title": {
           "x": 0.05
          },
          "xaxis": {
           "automargin": true,
           "gridcolor": "white",
           "linecolor": "white",
           "ticks": "",
           "title": {
            "standoff": 15
           },
           "zerolinecolor": "white",
           "zerolinewidth": 2
          },
          "yaxis": {
           "automargin": true,
           "gridcolor": "white",
           "linecolor": "white",
           "ticks": "",
           "title": {
            "standoff": 15
           },
           "zerolinecolor": "white",
           "zerolinewidth": 2
          }
         }
        },
        "title": {
         "text": "Initial Jobless Claims"
        },
        "xaxis": {
         "showspikes": true,
         "title": {
          "text": "DateTime"
         }
        },
        "yaxis": {
         "showspikes": true,
         "title": {
          "text": "Wk. thousands"
         }
        }
       }
      }
     },
     "metadata": {},
     "output_type": "display_data"
    }
   ],
   "source": [
    "vs.plotly_graph2(data_raw['DateTime'], data_raw['Actual'], data_raw['Consensus'], data_raw.columns[1],\n",
    "data_raw.columns[2], data_raw.columns[0], \"Wk. thousands\", \"Initial Jobless Claims\")"
   ]
  },
  {
   "cell_type": "code",
   "execution_count": 7,
   "metadata": {},
   "outputs": [
    {
     "data": {
      "text/html": [
       "<div>\n",
       "<style scoped>\n",
       "    .dataframe tbody tr th:only-of-type {\n",
       "        vertical-align: middle;\n",
       "    }\n",
       "\n",
       "    .dataframe tbody tr th {\n",
       "        vertical-align: top;\n",
       "    }\n",
       "\n",
       "    .dataframe thead th {\n",
       "        text-align: right;\n",
       "    }\n",
       "</style>\n",
       "<table border=\"1\" class=\"dataframe\">\n",
       "  <thead>\n",
       "    <tr style=\"text-align: right;\">\n",
       "      <th></th>\n",
       "      <th>DateTime</th>\n",
       "      <th>Actual</th>\n",
       "      <th>Consensus</th>\n",
       "      <th>Previous</th>\n",
       "      <th>Diff</th>\n",
       "    </tr>\n",
       "  </thead>\n",
       "  <tbody>\n",
       "    <tr>\n",
       "      <th>0</th>\n",
       "      <td>2020-02-06 13:30:00</td>\n",
       "      <td>202.0</td>\n",
       "      <td>215.0</td>\n",
       "      <td>216.0</td>\n",
       "      <td>-13.0</td>\n",
       "    </tr>\n",
       "    <tr>\n",
       "      <th>1</th>\n",
       "      <td>2020-01-30 13:30:00</td>\n",
       "      <td>216.0</td>\n",
       "      <td>215.0</td>\n",
       "      <td>211.0</td>\n",
       "      <td>1.0</td>\n",
       "    </tr>\n",
       "    <tr>\n",
       "      <th>2</th>\n",
       "      <td>2020-01-23 13:30:00</td>\n",
       "      <td>211.0</td>\n",
       "      <td>215.0</td>\n",
       "      <td>204.0</td>\n",
       "      <td>-4.0</td>\n",
       "    </tr>\n",
       "    <tr>\n",
       "      <th>3</th>\n",
       "      <td>2020-01-16 13:30:00</td>\n",
       "      <td>204.0</td>\n",
       "      <td>216.0</td>\n",
       "      <td>214.0</td>\n",
       "      <td>-12.0</td>\n",
       "    </tr>\n",
       "    <tr>\n",
       "      <th>4</th>\n",
       "      <td>2020-01-09 13:30:00</td>\n",
       "      <td>214.0</td>\n",
       "      <td>220.0</td>\n",
       "      <td>222.0</td>\n",
       "      <td>-6.0</td>\n",
       "    </tr>\n",
       "  </tbody>\n",
       "</table>\n",
       "</div>"
      ],
      "text/plain": [
       "             DateTime  Actual  Consensus  Previous  Diff\n",
       "0 2020-02-06 13:30:00   202.0      215.0     216.0 -13.0\n",
       "1 2020-01-30 13:30:00   216.0      215.0     211.0   1.0\n",
       "2 2020-01-23 13:30:00   211.0      215.0     204.0  -4.0\n",
       "3 2020-01-16 13:30:00   204.0      216.0     214.0 -12.0\n",
       "4 2020-01-09 13:30:00   214.0      220.0     222.0  -6.0"
      ]
     },
     "execution_count": 7,
     "metadata": {},
     "output_type": "execute_result"
    }
   ],
   "source": [
    "data_raw['Diff']=data_raw['Actual']-data_raw['Consensus']\n",
    "data_raw.head()"
   ]
  },
  {
   "cell_type": "code",
   "execution_count": 8,
   "metadata": {},
   "outputs": [
    {
     "name": "stdout",
     "output_type": "stream",
     "text": [
      "Help on function plotly_graph1 in module visualizations:\n",
      "\n",
      "plotly_graph1(x, y, name, x_label, y_label, title)\n",
      "    Function that plots a one-trace line+marker graph with plotly for time-series \n",
      "    reports Differences between Actual and Consensus in weekly statements.\n",
      "    \n",
      "        Parameters\n",
      "        ----------\n",
      "        x: Datetime values should be set as index for plotly chart. \n",
      "        y: Values of reports results Difference (Actual-Consensus) in df cols. \n",
      "        name: Label of y trace (str). \n",
      "        x_label: xlabel for plot (str). \n",
      "        y_label: y_label for plot (str).          \n",
      "        title: Title of the plot (str). \n",
      "        Returns\n",
      "        -------\n",
      "        Returns 1 trace equal to y = difference (A-C) showing if forecasts are Beaten or Missed.\n",
      "\n"
     ]
    }
   ],
   "source": [
    "help(vs.plotly_graph1)"
   ]
  },
  {
   "cell_type": "markdown",
   "metadata": {},
   "source": [
    "+ <font color= green> <font size = 2> **Beat** <font color= white> *(Actual<Consensus):* Economic Growth expected.\n",
    "\n",
    "+ <font color= red> <font size = 2> **Miss** <font color= white> *(Actual>Consensus)*: Economic Decline expected."
   ]
  },
  {
   "cell_type": "markdown",
   "metadata": {},
   "source": [
    "This indicator shouldn't be taken lightly as it can be identified rather quickly how Initial Jobless Claims indicator seems to sound the alarm before economic declines. <br />\n",
    "In this 2-year sample it can be quickly noticed that the biggest difference and greater miss from estimates was in Dic 2019. <br />\n",
    "On Thursday's report, official data showed that 39,000 more americans than expected, filed for unemployment insurance for the *first time* during the previous week. <br />\n",
    "\n",
    "Just a few months later, Covid crisis made itself clear for the American economy and sooner or later, for the rest of the world."
   ]
  },
  {
   "cell_type": "code",
   "execution_count": 9,
   "metadata": {},
   "outputs": [
    {
     "data": {
      "application/vnd.plotly.v1+json": {
       "config": {
        "plotlyServerURL": "https://plot.ly"
       },
       "data": [
        {
         "line": {
          "color": "black"
         },
         "marker": {
          "color": "yellow",
          "symbol": 2
         },
         "mode": "lines+markers",
         "name": "Diff",
         "type": "scatter",
         "x": [
          "2020-02-06T13:30:00",
          "2020-01-30T13:30:00",
          "2020-01-23T13:30:00",
          "2020-01-16T13:30:00",
          "2020-01-09T13:30:00",
          "2020-01-02T13:30:00",
          "2019-12-26T13:30:00",
          "2019-12-19T13:30:00",
          "2019-12-12T13:30:00",
          "2019-12-05T13:30:00",
          "2019-11-27T13:30:00",
          "2019-11-21T13:30:00",
          "2019-11-14T13:30:00",
          "2019-11-07T13:30:00",
          "2019-10-31T12:30:00",
          "2019-10-24T12:30:00",
          "2019-10-17T12:30:00",
          "2019-10-10T12:30:00",
          "2019-10-03T12:30:00",
          "2019-09-26T12:30:00",
          "2019-09-19T12:30:00",
          "2019-09-12T12:30:00",
          "2019-09-05T12:30:00",
          "2019-08-29T12:30:00",
          "2019-08-22T12:30:00",
          "2019-08-15T12:30:00",
          "2019-08-08T12:30:00",
          "2019-08-01T12:30:00",
          "2019-07-25T12:30:00",
          "2019-07-18T12:30:00",
          "2019-07-11T12:30:00",
          "2019-07-03T12:30:00",
          "2019-06-27T12:30:00",
          "2019-06-20T12:30:00",
          "2019-06-13T12:30:00",
          "2019-06-06T12:30:00",
          "2019-05-30T12:30:00",
          "2019-05-23T12:30:00",
          "2019-05-16T12:30:00",
          "2019-05-09T12:30:00",
          "2019-05-02T12:30:00",
          "2019-04-25T12:30:00",
          "2019-04-18T12:30:00",
          "2019-04-11T12:30:00",
          "2019-04-04T12:30:00",
          "2019-03-28T12:30:00",
          "2019-03-21T12:30:00",
          "2019-03-14T12:30:00",
          "2019-03-07T13:30:00",
          "2019-02-28T13:30:00",
          "2019-02-21T13:30:00",
          "2019-02-14T13:30:00",
          "2019-02-07T13:30:00",
          "2019-01-31T13:30:00",
          "2019-01-24T13:30:00",
          "2019-01-17T13:30:00",
          "2019-01-10T13:30:00",
          "2019-01-03T13:30:00",
          "2018-12-27T13:30:00",
          "2018-12-20T13:30:00",
          "2018-12-13T13:30:00",
          "2018-12-06T13:30:00",
          "2018-11-29T13:30:00",
          "2018-11-21T13:30:00",
          "2018-11-15T13:30:00",
          "2018-11-08T13:30:00",
          "2018-11-01T12:30:00",
          "2018-10-25T12:30:00",
          "2018-10-18T12:30:00",
          "2018-10-11T12:30:00",
          "2018-10-04T12:30:00",
          "2018-09-27T12:30:00",
          "2018-09-20T12:30:00",
          "2018-09-13T12:30:00",
          "2018-09-06T12:30:00",
          "2018-08-30T12:30:00",
          "2018-08-23T12:30:00",
          "2018-08-16T12:30:00",
          "2018-08-09T12:30:00",
          "2018-08-02T12:30:00",
          "2018-07-26T12:30:00",
          "2018-07-19T12:30:00",
          "2018-07-12T12:30:00",
          "2018-07-05T12:30:00",
          "2018-06-28T12:30:00",
          "2018-06-21T12:30:00",
          "2018-06-14T12:30:00",
          "2018-06-07T12:30:00",
          "2018-05-31T12:30:00",
          "2018-05-24T12:30:00",
          "2018-05-17T12:30:00",
          "2018-05-10T12:30:00",
          "2018-05-03T12:30:00",
          "2018-04-26T12:30:00",
          "2018-04-19T12:30:00",
          "2018-04-12T12:30:00",
          "2018-04-05T12:30:00",
          "2018-03-29T12:30:00",
          "2018-03-22T12:30:00",
          "2018-03-15T12:30:00",
          "2018-03-08T13:30:00",
          "2018-03-01T13:30:00",
          "2018-02-22T13:30:00",
          "2018-02-15T13:30:00",
          "2018-02-08T13:30:00",
          "2018-02-01T13:30:00",
          "2018-01-25T13:30:00",
          "2018-01-18T13:30:00",
          "2018-01-11T13:30:00",
          "2018-01-04T13:30:00"
         ],
         "y": [
          -13,
          1,
          -4,
          -12,
          -6,
          -3,
          -2,
          9,
          39,
          -12,
          -8,
          8,
          10,
          -4,
          3,
          -3,
          -1,
          -9,
          4,
          1,
          -5,
          -11,
          2,
          0,
          -7,
          6,
          -6,
          1,
          -13,
          0,
          -14,
          -2,
          7,
          -4,
          6,
          3,
          0,
          -4,
          -8,
          8,
          15,
          30,
          -13,
          -15,
          -14,
          -14,
          -4,
          4,
          -2,
          5,
          -13,
          14,
          13,
          38,
          -21,
          -7,
          -9,
          11,
          -1,
          -2,
          -19,
          6,
          14,
          9,
          4,
          0,
          1,
          1,
          -2,
          8,
          -6,
          4,
          -9,
          -6,
          -11,
          -1,
          -5,
          -3,
          -7,
          -2,
          2,
          -13,
          -11,
          6,
          7,
          -2,
          -6,
          -3,
          -7,
          14,
          7,
          -7,
          -14,
          -21,
          2,
          3,
          17,
          -15,
          4,
          0,
          11,
          -16,
          -8,
          0,
          -11,
          -8,
          -7,
          -30,
          16,
          10
         ]
        }
       ],
       "layout": {
        "shapes": [
         {
          "line": {
           "color": "darkred",
           "dash": "dash",
           "width": 3
          },
          "type": "line",
          "x0": 0,
          "x1": 1,
          "xref": "x domain",
          "y0": 0,
          "y1": 0,
          "yref": "y"
         },
         {
          "fillcolor": "red",
          "line": {
           "width": 0
          },
          "opacity": 0.15,
          "type": "rect",
          "x0": 0,
          "x1": 1,
          "xref": "x domain",
          "y0": 0,
          "y1": 45,
          "yref": "y"
         },
         {
          "fillcolor": "green",
          "line": {
           "width": 0
          },
          "opacity": 0.15,
          "type": "rect",
          "x0": 0,
          "x1": 1,
          "xref": "x domain",
          "y0": 0,
          "y1": -35,
          "yref": "y"
         }
        ],
        "template": {
         "data": {
          "bar": [
           {
            "error_x": {
             "color": "#2a3f5f"
            },
            "error_y": {
             "color": "#2a3f5f"
            },
            "marker": {
             "line": {
              "color": "#E5ECF6",
              "width": 0.5
             },
             "pattern": {
              "fillmode": "overlay",
              "size": 10,
              "solidity": 0.2
             }
            },
            "type": "bar"
           }
          ],
          "barpolar": [
           {
            "marker": {
             "line": {
              "color": "#E5ECF6",
              "width": 0.5
             },
             "pattern": {
              "fillmode": "overlay",
              "size": 10,
              "solidity": 0.2
             }
            },
            "type": "barpolar"
           }
          ],
          "carpet": [
           {
            "aaxis": {
             "endlinecolor": "#2a3f5f",
             "gridcolor": "white",
             "linecolor": "white",
             "minorgridcolor": "white",
             "startlinecolor": "#2a3f5f"
            },
            "baxis": {
             "endlinecolor": "#2a3f5f",
             "gridcolor": "white",
             "linecolor": "white",
             "minorgridcolor": "white",
             "startlinecolor": "#2a3f5f"
            },
            "type": "carpet"
           }
          ],
          "choropleth": [
           {
            "colorbar": {
             "outlinewidth": 0,
             "ticks": ""
            },
            "type": "choropleth"
           }
          ],
          "contour": [
           {
            "colorbar": {
             "outlinewidth": 0,
             "ticks": ""
            },
            "colorscale": [
             [
              0,
              "#0d0887"
             ],
             [
              0.1111111111111111,
              "#46039f"
             ],
             [
              0.2222222222222222,
              "#7201a8"
             ],
             [
              0.3333333333333333,
              "#9c179e"
             ],
             [
              0.4444444444444444,
              "#bd3786"
             ],
             [
              0.5555555555555556,
              "#d8576b"
             ],
             [
              0.6666666666666666,
              "#ed7953"
             ],
             [
              0.7777777777777778,
              "#fb9f3a"
             ],
             [
              0.8888888888888888,
              "#fdca26"
             ],
             [
              1,
              "#f0f921"
             ]
            ],
            "type": "contour"
           }
          ],
          "contourcarpet": [
           {
            "colorbar": {
             "outlinewidth": 0,
             "ticks": ""
            },
            "type": "contourcarpet"
           }
          ],
          "heatmap": [
           {
            "colorbar": {
             "outlinewidth": 0,
             "ticks": ""
            },
            "colorscale": [
             [
              0,
              "#0d0887"
             ],
             [
              0.1111111111111111,
              "#46039f"
             ],
             [
              0.2222222222222222,
              "#7201a8"
             ],
             [
              0.3333333333333333,
              "#9c179e"
             ],
             [
              0.4444444444444444,
              "#bd3786"
             ],
             [
              0.5555555555555556,
              "#d8576b"
             ],
             [
              0.6666666666666666,
              "#ed7953"
             ],
             [
              0.7777777777777778,
              "#fb9f3a"
             ],
             [
              0.8888888888888888,
              "#fdca26"
             ],
             [
              1,
              "#f0f921"
             ]
            ],
            "type": "heatmap"
           }
          ],
          "heatmapgl": [
           {
            "colorbar": {
             "outlinewidth": 0,
             "ticks": ""
            },
            "colorscale": [
             [
              0,
              "#0d0887"
             ],
             [
              0.1111111111111111,
              "#46039f"
             ],
             [
              0.2222222222222222,
              "#7201a8"
             ],
             [
              0.3333333333333333,
              "#9c179e"
             ],
             [
              0.4444444444444444,
              "#bd3786"
             ],
             [
              0.5555555555555556,
              "#d8576b"
             ],
             [
              0.6666666666666666,
              "#ed7953"
             ],
             [
              0.7777777777777778,
              "#fb9f3a"
             ],
             [
              0.8888888888888888,
              "#fdca26"
             ],
             [
              1,
              "#f0f921"
             ]
            ],
            "type": "heatmapgl"
           }
          ],
          "histogram": [
           {
            "marker": {
             "pattern": {
              "fillmode": "overlay",
              "size": 10,
              "solidity": 0.2
             }
            },
            "type": "histogram"
           }
          ],
          "histogram2d": [
           {
            "colorbar": {
             "outlinewidth": 0,
             "ticks": ""
            },
            "colorscale": [
             [
              0,
              "#0d0887"
             ],
             [
              0.1111111111111111,
              "#46039f"
             ],
             [
              0.2222222222222222,
              "#7201a8"
             ],
             [
              0.3333333333333333,
              "#9c179e"
             ],
             [
              0.4444444444444444,
              "#bd3786"
             ],
             [
              0.5555555555555556,
              "#d8576b"
             ],
             [
              0.6666666666666666,
              "#ed7953"
             ],
             [
              0.7777777777777778,
              "#fb9f3a"
             ],
             [
              0.8888888888888888,
              "#fdca26"
             ],
             [
              1,
              "#f0f921"
             ]
            ],
            "type": "histogram2d"
           }
          ],
          "histogram2dcontour": [
           {
            "colorbar": {
             "outlinewidth": 0,
             "ticks": ""
            },
            "colorscale": [
             [
              0,
              "#0d0887"
             ],
             [
              0.1111111111111111,
              "#46039f"
             ],
             [
              0.2222222222222222,
              "#7201a8"
             ],
             [
              0.3333333333333333,
              "#9c179e"
             ],
             [
              0.4444444444444444,
              "#bd3786"
             ],
             [
              0.5555555555555556,
              "#d8576b"
             ],
             [
              0.6666666666666666,
              "#ed7953"
             ],
             [
              0.7777777777777778,
              "#fb9f3a"
             ],
             [
              0.8888888888888888,
              "#fdca26"
             ],
             [
              1,
              "#f0f921"
             ]
            ],
            "type": "histogram2dcontour"
           }
          ],
          "mesh3d": [
           {
            "colorbar": {
             "outlinewidth": 0,
             "ticks": ""
            },
            "type": "mesh3d"
           }
          ],
          "parcoords": [
           {
            "line": {
             "colorbar": {
              "outlinewidth": 0,
              "ticks": ""
             }
            },
            "type": "parcoords"
           }
          ],
          "pie": [
           {
            "automargin": true,
            "type": "pie"
           }
          ],
          "scatter": [
           {
            "marker": {
             "colorbar": {
              "outlinewidth": 0,
              "ticks": ""
             }
            },
            "type": "scatter"
           }
          ],
          "scatter3d": [
           {
            "line": {
             "colorbar": {
              "outlinewidth": 0,
              "ticks": ""
             }
            },
            "marker": {
             "colorbar": {
              "outlinewidth": 0,
              "ticks": ""
             }
            },
            "type": "scatter3d"
           }
          ],
          "scattercarpet": [
           {
            "marker": {
             "colorbar": {
              "outlinewidth": 0,
              "ticks": ""
             }
            },
            "type": "scattercarpet"
           }
          ],
          "scattergeo": [
           {
            "marker": {
             "colorbar": {
              "outlinewidth": 0,
              "ticks": ""
             }
            },
            "type": "scattergeo"
           }
          ],
          "scattergl": [
           {
            "marker": {
             "colorbar": {
              "outlinewidth": 0,
              "ticks": ""
             }
            },
            "type": "scattergl"
           }
          ],
          "scattermapbox": [
           {
            "marker": {
             "colorbar": {
              "outlinewidth": 0,
              "ticks": ""
             }
            },
            "type": "scattermapbox"
           }
          ],
          "scatterpolar": [
           {
            "marker": {
             "colorbar": {
              "outlinewidth": 0,
              "ticks": ""
             }
            },
            "type": "scatterpolar"
           }
          ],
          "scatterpolargl": [
           {
            "marker": {
             "colorbar": {
              "outlinewidth": 0,
              "ticks": ""
             }
            },
            "type": "scatterpolargl"
           }
          ],
          "scatterternary": [
           {
            "marker": {
             "colorbar": {
              "outlinewidth": 0,
              "ticks": ""
             }
            },
            "type": "scatterternary"
           }
          ],
          "surface": [
           {
            "colorbar": {
             "outlinewidth": 0,
             "ticks": ""
            },
            "colorscale": [
             [
              0,
              "#0d0887"
             ],
             [
              0.1111111111111111,
              "#46039f"
             ],
             [
              0.2222222222222222,
              "#7201a8"
             ],
             [
              0.3333333333333333,
              "#9c179e"
             ],
             [
              0.4444444444444444,
              "#bd3786"
             ],
             [
              0.5555555555555556,
              "#d8576b"
             ],
             [
              0.6666666666666666,
              "#ed7953"
             ],
             [
              0.7777777777777778,
              "#fb9f3a"
             ],
             [
              0.8888888888888888,
              "#fdca26"
             ],
             [
              1,
              "#f0f921"
             ]
            ],
            "type": "surface"
           }
          ],
          "table": [
           {
            "cells": {
             "fill": {
              "color": "#EBF0F8"
             },
             "line": {
              "color": "white"
             }
            },
            "header": {
             "fill": {
              "color": "#C8D4E3"
             },
             "line": {
              "color": "white"
             }
            },
            "type": "table"
           }
          ]
         },
         "layout": {
          "annotationdefaults": {
           "arrowcolor": "#2a3f5f",
           "arrowhead": 0,
           "arrowwidth": 1
          },
          "autotypenumbers": "strict",
          "coloraxis": {
           "colorbar": {
            "outlinewidth": 0,
            "ticks": ""
           }
          },
          "colorscale": {
           "diverging": [
            [
             0,
             "#8e0152"
            ],
            [
             0.1,
             "#c51b7d"
            ],
            [
             0.2,
             "#de77ae"
            ],
            [
             0.3,
             "#f1b6da"
            ],
            [
             0.4,
             "#fde0ef"
            ],
            [
             0.5,
             "#f7f7f7"
            ],
            [
             0.6,
             "#e6f5d0"
            ],
            [
             0.7,
             "#b8e186"
            ],
            [
             0.8,
             "#7fbc41"
            ],
            [
             0.9,
             "#4d9221"
            ],
            [
             1,
             "#276419"
            ]
           ],
           "sequential": [
            [
             0,
             "#0d0887"
            ],
            [
             0.1111111111111111,
             "#46039f"
            ],
            [
             0.2222222222222222,
             "#7201a8"
            ],
            [
             0.3333333333333333,
             "#9c179e"
            ],
            [
             0.4444444444444444,
             "#bd3786"
            ],
            [
             0.5555555555555556,
             "#d8576b"
            ],
            [
             0.6666666666666666,
             "#ed7953"
            ],
            [
             0.7777777777777778,
             "#fb9f3a"
            ],
            [
             0.8888888888888888,
             "#fdca26"
            ],
            [
             1,
             "#f0f921"
            ]
           ],
           "sequentialminus": [
            [
             0,
             "#0d0887"
            ],
            [
             0.1111111111111111,
             "#46039f"
            ],
            [
             0.2222222222222222,
             "#7201a8"
            ],
            [
             0.3333333333333333,
             "#9c179e"
            ],
            [
             0.4444444444444444,
             "#bd3786"
            ],
            [
             0.5555555555555556,
             "#d8576b"
            ],
            [
             0.6666666666666666,
             "#ed7953"
            ],
            [
             0.7777777777777778,
             "#fb9f3a"
            ],
            [
             0.8888888888888888,
             "#fdca26"
            ],
            [
             1,
             "#f0f921"
            ]
           ]
          },
          "colorway": [
           "#636efa",
           "#EF553B",
           "#00cc96",
           "#ab63fa",
           "#FFA15A",
           "#19d3f3",
           "#FF6692",
           "#B6E880",
           "#FF97FF",
           "#FECB52"
          ],
          "font": {
           "color": "#2a3f5f"
          },
          "geo": {
           "bgcolor": "white",
           "lakecolor": "white",
           "landcolor": "#E5ECF6",
           "showlakes": true,
           "showland": true,
           "subunitcolor": "white"
          },
          "hoverlabel": {
           "align": "left"
          },
          "hovermode": "closest",
          "mapbox": {
           "style": "light"
          },
          "paper_bgcolor": "white",
          "plot_bgcolor": "#E5ECF6",
          "polar": {
           "angularaxis": {
            "gridcolor": "white",
            "linecolor": "white",
            "ticks": ""
           },
           "bgcolor": "#E5ECF6",
           "radialaxis": {
            "gridcolor": "white",
            "linecolor": "white",
            "ticks": ""
           }
          },
          "scene": {
           "xaxis": {
            "backgroundcolor": "#E5ECF6",
            "gridcolor": "white",
            "gridwidth": 2,
            "linecolor": "white",
            "showbackground": true,
            "ticks": "",
            "zerolinecolor": "white"
           },
           "yaxis": {
            "backgroundcolor": "#E5ECF6",
            "gridcolor": "white",
            "gridwidth": 2,
            "linecolor": "white",
            "showbackground": true,
            "ticks": "",
            "zerolinecolor": "white"
           },
           "zaxis": {
            "backgroundcolor": "#E5ECF6",
            "gridcolor": "white",
            "gridwidth": 2,
            "linecolor": "white",
            "showbackground": true,
            "ticks": "",
            "zerolinecolor": "white"
           }
          },
          "shapedefaults": {
           "line": {
            "color": "#2a3f5f"
           }
          },
          "ternary": {
           "aaxis": {
            "gridcolor": "white",
            "linecolor": "white",
            "ticks": ""
           },
           "baxis": {
            "gridcolor": "white",
            "linecolor": "white",
            "ticks": ""
           },
           "bgcolor": "#E5ECF6",
           "caxis": {
            "gridcolor": "white",
            "linecolor": "white",
            "ticks": ""
           }
          },
          "title": {
           "x": 0.05
          },
          "xaxis": {
           "automargin": true,
           "gridcolor": "white",
           "linecolor": "white",
           "ticks": "",
           "title": {
            "standoff": 15
           },
           "zerolinecolor": "white",
           "zerolinewidth": 2
          },
          "yaxis": {
           "automargin": true,
           "gridcolor": "white",
           "linecolor": "white",
           "ticks": "",
           "title": {
            "standoff": 15
           },
           "zerolinecolor": "white",
           "zerolinewidth": 2
          }
         }
        },
        "title": {
         "text": "Diff. (Actual - Consensus)"
        },
        "xaxis": {
         "showspikes": true,
         "title": {
          "text": "DateTime"
         }
        },
        "yaxis": {
         "showspikes": true,
         "title": {
          "text": "Beat or Miss"
         }
        }
       }
      }
     },
     "metadata": {},
     "output_type": "display_data"
    }
   ],
   "source": [
    "vs.plotly_graph1(data_raw['DateTime'], data_raw['Diff'], data_raw.columns[4], data_raw.columns[0], \"Beat or Miss\", 'Diff. (Actual - Consensus)')\n"
   ]
  },
  {
   "cell_type": "code",
   "execution_count": 10,
   "metadata": {},
   "outputs": [
    {
     "data": {
      "text/html": [
       "<div>\n",
       "<style scoped>\n",
       "    .dataframe tbody tr th:only-of-type {\n",
       "        vertical-align: middle;\n",
       "    }\n",
       "\n",
       "    .dataframe tbody tr th {\n",
       "        vertical-align: top;\n",
       "    }\n",
       "\n",
       "    .dataframe thead th {\n",
       "        text-align: right;\n",
       "    }\n",
       "</style>\n",
       "<table border=\"1\" class=\"dataframe\">\n",
       "  <thead>\n",
       "    <tr style=\"text-align: right;\">\n",
       "      <th></th>\n",
       "      <th>Cases</th>\n",
       "      <th>Assignation</th>\n",
       "    </tr>\n",
       "  </thead>\n",
       "  <tbody>\n",
       "    <tr>\n",
       "      <th>0</th>\n",
       "      <td>Worst</td>\n",
       "      <td>Actual &gt;= Consensus &gt;= Previous</td>\n",
       "    </tr>\n",
       "    <tr>\n",
       "      <th>1</th>\n",
       "      <td>Best</td>\n",
       "      <td>Actual &lt;= Consensus &lt;= Previous</td>\n",
       "    </tr>\n",
       "    <tr>\n",
       "      <th>2</th>\n",
       "      <td>3</td>\n",
       "      <td>Actual &gt;= Consensus &lt;= Previous</td>\n",
       "    </tr>\n",
       "    <tr>\n",
       "      <th>3</th>\n",
       "      <td>4</td>\n",
       "      <td>Actual &lt;= Consensus &gt;= Previous</td>\n",
       "    </tr>\n",
       "  </tbody>\n",
       "</table>\n",
       "</div>"
      ],
      "text/plain": [
       "   Cases                      Assignation\n",
       "0  Worst  Actual >= Consensus >= Previous\n",
       "1   Best  Actual <= Consensus <= Previous\n",
       "2      3  Actual >= Consensus <= Previous\n",
       "3      4  Actual <= Consensus >= Previous"
      ]
     },
     "execution_count": 10,
     "metadata": {},
     "output_type": "execute_result"
    }
   ],
   "source": [
    "Cases = pd.DataFrame({'Cases':['Worst', 'Best', '3', '4'],\n",
    "'Assignation': ['Actual >= Consensus >= Previous',\n",
    "'Actual <= Consensus <= Previous',\n",
    "'Actual >= Consensus <= Previous',\n",
    "'Actual <= Consensus >= Previous']})\n",
    "\n",
    "Cases"
   ]
  },
  {
   "cell_type": "code",
   "execution_count": 11,
   "metadata": {},
   "outputs": [
    {
     "name": "stdout",
     "output_type": "stream",
     "text": [
      "Help on function fx_rate in module data:\n",
      "\n",
      "fx_rate(pairs, account, pw, timeframe)\n",
      "    Function that downloads exchange rates data for given timeframes with MetaTrader 5 api.\n",
      "    \n",
      "    Parameters\n",
      "    ----------\n",
      "    + pairs: Exchange Rate Currencies (ej. USDMXN, EURUSD)\n",
      "    + account: Valid Mt5 username credential. (64225494)\n",
      "    + pw: Valid Mt5 password credential. (movz2vvi)\n",
      "    + timeframe: Data download temporality: 10M, 30M, H1, H4, D1 (str). \n",
      "    -------\n",
      "    Returns: Returns OHCLV, spreads and Real Volume for selected timeframes (dataframe).\n",
      "\n"
     ]
    }
   ],
   "source": [
    "help(dt.fx_rate)"
   ]
  },
  {
   "cell_type": "code",
   "execution_count": 12,
   "metadata": {},
   "outputs": [
    {
     "data": {
      "text/html": [
       "<div>\n",
       "<style scoped>\n",
       "    .dataframe tbody tr th:only-of-type {\n",
       "        vertical-align: middle;\n",
       "    }\n",
       "\n",
       "    .dataframe tbody tr th {\n",
       "        vertical-align: top;\n",
       "    }\n",
       "\n",
       "    .dataframe thead th {\n",
       "        text-align: right;\n",
       "    }\n",
       "</style>\n",
       "<table border=\"1\" class=\"dataframe\">\n",
       "  <thead>\n",
       "    <tr style=\"text-align: right;\">\n",
       "      <th></th>\n",
       "      <th>time</th>\n",
       "      <th>open</th>\n",
       "      <th>high</th>\n",
       "      <th>low</th>\n",
       "      <th>close</th>\n",
       "      <th>tick_volume</th>\n",
       "      <th>spread</th>\n",
       "      <th>real_volume</th>\n",
       "    </tr>\n",
       "  </thead>\n",
       "  <tbody>\n",
       "    <tr>\n",
       "      <th>0</th>\n",
       "      <td>2018-01-02 00:00:00</td>\n",
       "      <td>1.20088</td>\n",
       "      <td>1.20094</td>\n",
       "      <td>1.20007</td>\n",
       "      <td>1.20058</td>\n",
       "      <td>107</td>\n",
       "      <td>18</td>\n",
       "      <td>0</td>\n",
       "    </tr>\n",
       "    <tr>\n",
       "      <th>1</th>\n",
       "      <td>2018-01-02 00:30:00</td>\n",
       "      <td>1.20058</td>\n",
       "      <td>1.20153</td>\n",
       "      <td>1.20058</td>\n",
       "      <td>1.20135</td>\n",
       "      <td>292</td>\n",
       "      <td>18</td>\n",
       "      <td>0</td>\n",
       "    </tr>\n",
       "    <tr>\n",
       "      <th>2</th>\n",
       "      <td>2018-01-02 01:00:00</td>\n",
       "      <td>1.20118</td>\n",
       "      <td>1.20145</td>\n",
       "      <td>1.20045</td>\n",
       "      <td>1.20129</td>\n",
       "      <td>1044</td>\n",
       "      <td>18</td>\n",
       "      <td>0</td>\n",
       "    </tr>\n",
       "    <tr>\n",
       "      <th>3</th>\n",
       "      <td>2018-01-02 01:30:00</td>\n",
       "      <td>1.20130</td>\n",
       "      <td>1.20143</td>\n",
       "      <td>1.20087</td>\n",
       "      <td>1.20098</td>\n",
       "      <td>630</td>\n",
       "      <td>18</td>\n",
       "      <td>0</td>\n",
       "    </tr>\n",
       "    <tr>\n",
       "      <th>4</th>\n",
       "      <td>2018-01-02 02:00:00</td>\n",
       "      <td>1.20087</td>\n",
       "      <td>1.20159</td>\n",
       "      <td>1.20083</td>\n",
       "      <td>1.20137</td>\n",
       "      <td>277</td>\n",
       "      <td>16</td>\n",
       "      <td>0</td>\n",
       "    </tr>\n",
       "  </tbody>\n",
       "</table>\n",
       "</div>"
      ],
      "text/plain": [
       "                 time     open     high      low    close  tick_volume  \\\n",
       "0 2018-01-02 00:00:00  1.20088  1.20094  1.20007  1.20058          107   \n",
       "1 2018-01-02 00:30:00  1.20058  1.20153  1.20058  1.20135          292   \n",
       "2 2018-01-02 01:00:00  1.20118  1.20145  1.20045  1.20129         1044   \n",
       "3 2018-01-02 01:30:00  1.20130  1.20143  1.20087  1.20098          630   \n",
       "4 2018-01-02 02:00:00  1.20087  1.20159  1.20083  1.20137          277   \n",
       "\n",
       "   spread  real_volume  \n",
       "0      18            0  \n",
       "1      18            0  \n",
       "2      18            0  \n",
       "3      18            0  \n",
       "4      16            0  "
      ]
     },
     "execution_count": 12,
     "metadata": {},
     "output_type": "execute_result"
    }
   ],
   "source": [
    "pairs, account, pw, timeframe = 'EURUSD', 64225494, 'movz2vvi', '30M'\n",
    "EURUSD = dt.fx_rate(pairs, account, pw, timeframe)\n",
    "EURUSD.head()"
   ]
  },
  {
   "cell_type": "code",
   "execution_count": 16,
   "metadata": {},
   "outputs": [
    {
     "ename": "ValueError",
     "evalue": "\nImage export using the \"kaleido\" engine requires the kaleido package,\nwhich can be installed using pip:\n    $ pip install -U kaleido\n",
     "output_type": "error",
     "traceback": [
      "\u001b[1;31m---------------------------------------------------------------------------\u001b[0m",
      "\u001b[1;31mValueError\u001b[0m                                Traceback (most recent call last)",
      "\u001b[1;32mc:\\Users\\Esteban\\Desktop\\ITESO\\9°\\Microestructuras\\Proyecto\\MyST_Project\\notebook.ipynb Cell 28\u001b[0m in \u001b[0;36m<cell line: 2>\u001b[1;34m()\u001b[0m\n\u001b[0;32m      <a href='vscode-notebook-cell:/c%3A/Users/Esteban/Desktop/ITESO/9%C2%B0/Microestructuras/Proyecto/MyST_Project/notebook.ipynb#X35sZmlsZQ%3D%3D?line=0'>1</a>\u001b[0m EURUSD_D \u001b[39m=\u001b[39m dt\u001b[39m.\u001b[39mfx_rate(pairs, account, pw, \u001b[39m'\u001b[39m\u001b[39mD1\u001b[39m\u001b[39m'\u001b[39m)\n\u001b[1;32m----> <a href='vscode-notebook-cell:/c%3A/Users/Esteban/Desktop/ITESO/9%C2%B0/Microestructuras/Proyecto/MyST_Project/notebook.ipynb#X35sZmlsZQ%3D%3D?line=1'>2</a>\u001b[0m vs\u001b[39m.\u001b[39;49mOHCLV_csticks(EURUSD_D, \u001b[39m'\u001b[39;49m\u001b[39mEURUSD Daily Candles\u001b[39;49m\u001b[39m'\u001b[39;49m, \u001b[39m'\u001b[39;49m\u001b[39mVolume\u001b[39;49m\u001b[39m'\u001b[39;49m, \u001b[39m30\u001b[39;49m)\n",
      "File \u001b[1;32mc:\\Users\\Esteban\\Desktop\\ITESO\\9°\\Microestructuras\\Proyecto\\MyST_Project\\visualizations.py:173\u001b[0m, in \u001b[0;36mOHCLV_csticks\u001b[1;34m(fx_rates, title_1, title_2, n)\u001b[0m\n\u001b[0;32m    169\u001b[0m \u001b[39m# Volume Plot\u001b[39;00m\n\u001b[0;32m    170\u001b[0m fig\u001b[39m.\u001b[39madd_trace(go\u001b[39m.\u001b[39mBar(x \u001b[39m=\u001b[39m fx_rates[\u001b[39m'\u001b[39m\u001b[39mtime\u001b[39m\u001b[39m'\u001b[39m], y \u001b[39m=\u001b[39m fx_rates[\u001b[39m'\u001b[39m\u001b[39mtick_volume\u001b[39m\u001b[39m'\u001b[39m], showlegend\u001b[39m=\u001b[39m\u001b[39mFalse\u001b[39;00m), \n\u001b[0;32m    171\u001b[0m             row \u001b[39m=\u001b[39m \u001b[39m2\u001b[39m, col \u001b[39m=\u001b[39m \u001b[39m1\u001b[39m)\n\u001b[1;32m--> 173\u001b[0m \u001b[39mreturn\u001b[39;00m fig\u001b[39m.\u001b[39;49mshow(\u001b[39m\"\u001b[39;49m\u001b[39mpng\u001b[39;49m\u001b[39m\"\u001b[39;49m)\n",
      "File \u001b[1;32mc:\\ProgramData\\Anaconda3\\lib\\site-packages\\plotly\\basedatatypes.py:3398\u001b[0m, in \u001b[0;36mBaseFigure.show\u001b[1;34m(self, *args, **kwargs)\u001b[0m\n\u001b[0;32m   3365\u001b[0m \u001b[39m\"\"\"\u001b[39;00m\n\u001b[0;32m   3366\u001b[0m \u001b[39mShow a figure using either the default renderer(s) or the renderer(s)\u001b[39;00m\n\u001b[0;32m   3367\u001b[0m \u001b[39mspecified by the renderer argument\u001b[39;00m\n\u001b[1;32m   (...)\u001b[0m\n\u001b[0;32m   3394\u001b[0m \u001b[39mNone\u001b[39;00m\n\u001b[0;32m   3395\u001b[0m \u001b[39m\"\"\"\u001b[39;00m\n\u001b[0;32m   3396\u001b[0m \u001b[39mimport\u001b[39;00m \u001b[39mplotly\u001b[39;00m\u001b[39m.\u001b[39;00m\u001b[39mio\u001b[39;00m \u001b[39mas\u001b[39;00m \u001b[39mpio\u001b[39;00m\n\u001b[1;32m-> 3398\u001b[0m \u001b[39mreturn\u001b[39;00m pio\u001b[39m.\u001b[39;49mshow(\u001b[39mself\u001b[39;49m, \u001b[39m*\u001b[39;49margs, \u001b[39m*\u001b[39;49m\u001b[39m*\u001b[39;49mkwargs)\n",
      "File \u001b[1;32mc:\\ProgramData\\Anaconda3\\lib\\site-packages\\plotly\\io\\_renderers.py:389\u001b[0m, in \u001b[0;36mshow\u001b[1;34m(fig, renderer, validate, **kwargs)\u001b[0m\n\u001b[0;32m    386\u001b[0m fig_dict \u001b[39m=\u001b[39m validate_coerce_fig_to_dict(fig, validate)\n\u001b[0;32m    388\u001b[0m \u001b[39m# Mimetype renderers\u001b[39;00m\n\u001b[1;32m--> 389\u001b[0m bundle \u001b[39m=\u001b[39m renderers\u001b[39m.\u001b[39;49m_build_mime_bundle(fig_dict, renderers_string\u001b[39m=\u001b[39;49mrenderer, \u001b[39m*\u001b[39;49m\u001b[39m*\u001b[39;49mkwargs)\n\u001b[0;32m    390\u001b[0m \u001b[39mif\u001b[39;00m bundle:\n\u001b[0;32m    391\u001b[0m     \u001b[39mif\u001b[39;00m \u001b[39mnot\u001b[39;00m ipython_display:\n",
      "File \u001b[1;32mc:\\ProgramData\\Anaconda3\\lib\\site-packages\\plotly\\io\\_renderers.py:297\u001b[0m, in \u001b[0;36mRenderersConfig._build_mime_bundle\u001b[1;34m(self, fig_dict, renderers_string, **kwargs)\u001b[0m\n\u001b[0;32m    294\u001b[0m             \u001b[39mif\u001b[39;00m \u001b[39mhasattr\u001b[39m(renderer, k):\n\u001b[0;32m    295\u001b[0m                 \u001b[39msetattr\u001b[39m(renderer, k, v)\n\u001b[1;32m--> 297\u001b[0m         bundle\u001b[39m.\u001b[39mupdate(renderer\u001b[39m.\u001b[39;49mto_mimebundle(fig_dict))\n\u001b[0;32m    299\u001b[0m \u001b[39mreturn\u001b[39;00m bundle\n",
      "File \u001b[1;32mc:\\ProgramData\\Anaconda3\\lib\\site-packages\\plotly\\io\\_base_renderers.py:128\u001b[0m, in \u001b[0;36mImageRenderer.to_mimebundle\u001b[1;34m(self, fig_dict)\u001b[0m\n\u001b[0;32m    127\u001b[0m \u001b[39mdef\u001b[39;00m \u001b[39mto_mimebundle\u001b[39m(\u001b[39mself\u001b[39m, fig_dict):\n\u001b[1;32m--> 128\u001b[0m     image_bytes \u001b[39m=\u001b[39m to_image(\n\u001b[0;32m    129\u001b[0m         fig_dict,\n\u001b[0;32m    130\u001b[0m         \u001b[39mformat\u001b[39;49m\u001b[39m=\u001b[39;49m\u001b[39mself\u001b[39;49m\u001b[39m.\u001b[39;49mformat,\n\u001b[0;32m    131\u001b[0m         width\u001b[39m=\u001b[39;49m\u001b[39mself\u001b[39;49m\u001b[39m.\u001b[39;49mwidth,\n\u001b[0;32m    132\u001b[0m         height\u001b[39m=\u001b[39;49m\u001b[39mself\u001b[39;49m\u001b[39m.\u001b[39;49mheight,\n\u001b[0;32m    133\u001b[0m         scale\u001b[39m=\u001b[39;49m\u001b[39mself\u001b[39;49m\u001b[39m.\u001b[39;49mscale,\n\u001b[0;32m    134\u001b[0m         validate\u001b[39m=\u001b[39;49m\u001b[39mFalse\u001b[39;49;00m,\n\u001b[0;32m    135\u001b[0m         engine\u001b[39m=\u001b[39;49m\u001b[39mself\u001b[39;49m\u001b[39m.\u001b[39;49mengine,\n\u001b[0;32m    136\u001b[0m     )\n\u001b[0;32m    138\u001b[0m     \u001b[39mif\u001b[39;00m \u001b[39mself\u001b[39m\u001b[39m.\u001b[39mb64_encode:\n\u001b[0;32m    139\u001b[0m         image_str \u001b[39m=\u001b[39m base64\u001b[39m.\u001b[39mb64encode(image_bytes)\u001b[39m.\u001b[39mdecode(\u001b[39m\"\u001b[39m\u001b[39mutf8\u001b[39m\u001b[39m\"\u001b[39m)\n",
      "File \u001b[1;32mc:\\ProgramData\\Anaconda3\\lib\\site-packages\\plotly\\io\\_kaleido.py:134\u001b[0m, in \u001b[0;36mto_image\u001b[1;34m(fig, format, width, height, scale, validate, engine)\u001b[0m\n\u001b[0;32m    132\u001b[0m     \u001b[39m# Raise informative error message if Kaleido is not installed\u001b[39;00m\n\u001b[0;32m    133\u001b[0m     \u001b[39mif\u001b[39;00m scope \u001b[39mis\u001b[39;00m \u001b[39mNone\u001b[39;00m:\n\u001b[1;32m--> 134\u001b[0m         \u001b[39mraise\u001b[39;00m \u001b[39mValueError\u001b[39;00m(\n\u001b[0;32m    135\u001b[0m             \u001b[39m\"\"\"\u001b[39;00m\n\u001b[0;32m    136\u001b[0m \u001b[39mImage export using the \"kaleido\" engine requires the kaleido package,\u001b[39;00m\n\u001b[0;32m    137\u001b[0m \u001b[39mwhich can be installed using pip:\u001b[39;00m\n\u001b[0;32m    138\u001b[0m \u001b[39m    $ pip install -U kaleido\u001b[39;00m\n\u001b[0;32m    139\u001b[0m \u001b[39m\"\"\"\u001b[39;00m\n\u001b[0;32m    140\u001b[0m         )\n\u001b[0;32m    142\u001b[0m     \u001b[39m# Validate figure\u001b[39;00m\n\u001b[0;32m    143\u001b[0m     \u001b[39m# ---------------\u001b[39;00m\n\u001b[0;32m    144\u001b[0m     fig_dict \u001b[39m=\u001b[39m validate_coerce_fig_to_dict(fig, validate)\n",
      "\u001b[1;31mValueError\u001b[0m: \nImage export using the \"kaleido\" engine requires the kaleido package,\nwhich can be installed using pip:\n    $ pip install -U kaleido\n"
     ]
    }
   ],
   "source": [
    "EURUSD_D = dt.fx_rate(pairs, account, pw, 'D1')\n",
    "vs.OHCLV_csticks(EURUSD_D, 'EURUSD Daily Candles', 'Volume', 30)"
   ]
  },
  {
   "cell_type": "markdown",
   "metadata": {},
   "source": [
    "<font color= orange> <font size = 5> 2. Section 2 </font>"
   ]
  },
  {
   "cell_type": "markdown",
   "metadata": {},
   "source": [
    "<font color= orange> <font size = 5> 3. Section 3 </font>"
   ]
  },
  {
   "cell_type": "markdown",
   "metadata": {},
   "source": [
    "### <font color= orange> <font size = 5> 4. Bibliography: </font>\n",
    "\n",
    "<font color= lightgray>\n",
    "\n",
    "+ Villalobos, O, 2021. *Python Project Template*. Available at: https://github.com/OmarVillalobos/python-project. \n",
    "\n",
    "+ ETA, (2022). *United States Department of Labor*. Available at: https://www.dol.gov/agencies/eta \n",
    "(Accessed: November 21, 2022). \n",
    "\n"
   ]
  }
 ],
 "metadata": {
  "kernelspec": {
   "display_name": "base",
   "language": "python",
   "name": "python3"
  },
  "language_info": {
   "codemirror_mode": {
    "name": "ipython",
    "version": 3
   },
   "file_extension": ".py",
   "mimetype": "text/x-python",
   "name": "python",
   "nbconvert_exporter": "python",
   "pygments_lexer": "ipython3",
   "version": "3.8.13"
  },
  "toc": {
   "base_numbering": 1,
   "nav_menu": {},
   "number_sections": true,
   "sideBar": true,
   "skip_h1_title": false,
   "title_cell": "Table of Contents",
   "title_sidebar": "Contents",
   "toc_cell": false,
   "toc_position": {},
   "toc_section_display": true,
   "toc_window_display": false
  },
  "vscode": {
   "interpreter": {
    "hash": "ad2bdc8ecc057115af97d19610ffacc2b4e99fae6737bb82f5d7fb13d2f2c186"
   }
  }
 },
 "nbformat": 4,
 "nbformat_minor": 2
}
