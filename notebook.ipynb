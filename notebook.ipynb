{
 "cells": [
  {
   "cell_type": "markdown",
   "metadata": {},
   "source": [
    "\n",
    "    \n",
    "    \n",
    "## <H2 align=\"center\"> <font color='white'> **MAF1731B**: Microstructure and Trading Systems </H2>\n",
    "\n",
    "### <H3 align=\"center\"> <font color='white'> **Project: EUR/USD** Behavior during Initial Jobless Claims statements </H3>\n",
    "\n",
    " <H5 align=\"center\"> <em> Professor: Villalobos Ramos Omar Antonio <em>\n",
    "\n",
    " <p align=\"center\"> <img style=\" margin: 30px 15px 15px 15px;\" src=\"https://pngimage.net/wp-content/uploads/2018/06/logo-iteso-png-5.png\" width=\"350\" height=\"150\" /> \n",
    "\n",
    " <strong> <H5 align=\"left\"> Student:\n",
    "Esteban Márquez Delgado <strong>\n",
    "\n",
    " *Registry*:\n",
    "if700637: https://github.com/EstebanMqz/MyST_Project\n",
    "\n",
    " <center> <font color= #555555> <font size = 4> November 2022 </a> <font color= #555555> <font size = 4> </a></font>"
   ]
  },
  {
   "cell_type": "markdown",
   "metadata": {},
   "source": [
    "<hr style=\"border:0.02in solid gray\"> </hr>"
   ]
  },
  {
   "cell_type": "markdown",
   "metadata": {},
   "source": [
    "<center> <font color= #555555> <font size = 6> Project </font> <br> <br> <font color= #555555> <font size = 5> \n",
    "Project 1: Fundamental Analysis </font>"
   ]
  },
  {
   "cell_type": "markdown",
   "metadata": {},
   "source": [
    "<hr style=\"border:0.02in solid gray\"> </hr>"
   ]
  },
  {
   "cell_type": "markdown",
   "metadata": {},
   "source": [
    "### <font color= #555555> <font size = 4> Abstract </font>"
   ]
  },
  {
   "cell_type": "markdown",
   "metadata": {},
   "source": [
    "This document was prepared as Final Project for Microstructure and Trading Systems - MAF1731B class during the Autumn 2022 course at ITESO for the Bachelor of Financial Engineering. \n",
    "\n",
    "It has the following sections:\n",
    "\n",
    "1. *Description*.\n",
    "\n",
    "2. *Description*.\n",
    "\n",
    "3. *Description*.\n",
    "\n"
   ]
  },
  {
   "cell_type": "markdown",
   "metadata": {},
   "source": [
    "<font color= lightblue> <font size = 4> 0. Libraries and Dependencies: </font>\n",
    "\n",
    "<font color= gray>\n",
    "\n",
    "**Note**: To run this notebook it is necessary to have the following libraries contained in the [requirements.txt](https://github.com/EstebanMqz/MyST_LAB_4/blob/main/requirements.txt) script of this project.\n",
    "\n",
    "To install the libraries in the script run the following cell:"
   ]
  },
  {
   "cell_type": "code",
   "execution_count": null,
   "metadata": {},
   "outputs": [],
   "source": [
    "!pip install -r requirements.txt"
   ]
  },
  {
   "cell_type": "markdown",
   "metadata": {},
   "source": [
    "If you prefer, manual installation can be done with the individual installation of the following libraries:\n",
    "\n",
    "<font color= lightblue> <font size = 1> \n",
    "+ pandas >= 1.3.4\n",
    "+ numpy >= 1.19.1\n",
    "+ jupyter >= 1.0.0\n",
    "+ chart_studio >= 1.1\n",
    "+ plotly >= 4.14\n",
    "+ logging >= 3.11\n",
    "+ datetime >= 4.7\n",
    "+ pandas_datareader >= 0.10.0\n",
    "+ tk >= 0.10\n",
    "+ random >= 3.11\n",
    "+ plotly >= 5.60\n",
    "+ yahoofinancials >= 1.60\n",
    "+ scipy >= 1.7.3\n",
    "+ regex >= 2022.3.15\n",
    "+ matplotlib >= 3.5.1\n",
    "+ fire >= 0.4.0\n",
    "+ ccxt >= 2.1.33\n",
    "+ time >= 3.11 \n"
   ]
  },
  {
   "cell_type": "markdown",
   "metadata": {},
   "source": [
    "### <font color= lightblue> <font size = 4> 0.1 Introduction: </font>\n",
    "*Description*.\n",
    "<font color= gray>\n",
    "\n",
    "\n"
   ]
  },
  {
   "cell_type": "markdown",
   "metadata": {},
   "source": [
    "##### *General help:*\n",
    "<font color= lightgreen> **Note**: Progress checks in sections highlighted. <font color= white>\n",
    "\n",
    "In order, to retrieve specific help from the scripts tree in the project execute the help function on the script or in specific modules from the following:\n",
    "+ [data.py](https://github.com/EstebanMqz/MyST_Project/blob/main/data.py)\n",
    "+ [functions.py](https://github.com/EstebanMqz/MyST_Project/blob/main/functions.py)\n",
    "+ [visualizations.py](https://github.com/EstebanMqz/MyST_Project/blob/main/visualizations.py)"
   ]
  },
  {
   "cell_type": "code",
   "execution_count": 1,
   "metadata": {},
   "outputs": [
    {
     "name": "stderr",
     "output_type": "stream",
     "text": [
      "c:\\ProgramData\\Anaconda3\\lib\\site-packages\\scipy\\__init__.py:146: UserWarning: A NumPy version >=1.16.5 and <1.23.0 is required for this version of SciPy (detected version 1.23.5\n",
      "  warnings.warn(f\"A NumPy version >={np_minversion} and <{np_maxversion}\"\n"
     ]
    }
   ],
   "source": [
    "## Libraries\n",
    "import pandas as pd # Analysis and data management\n",
    "import pandas_datareader as pdr\n",
    "import pandas_datareader.data as web #Data extraction from the web\n",
    "import numpy as np\n",
    "from datetime import datetime, timedelta, date\n",
    "import datetime\n",
    "from tkinter.ttk import Style\n",
    "from tkinter import Y\n",
    "import random as rand\n",
    "import plotly.graph_objects as go #Plotly\n",
    "import plotly.express as px\n",
    "import warnings\n",
    "from yahoofinancials import YahooFinancials # Yfinance \n",
    "import warnings\n",
    "import yfinance as yf\n",
    "import ccxt #Criptocurrencies\n",
    "import logging as log #Exchanges \n",
    "from scipy.optimize import minimize # Optimization \n",
    "from collections import Counter #Counter\n",
    "import time\n",
    "import re\n",
    "import io \n",
    "import glob\n",
    "import os\n",
    "#.Py archives in repo\n",
    "import functions as fn \n",
    "import visualizations as vs\n",
    "import data as dt\n",
    "from os import path\n",
    "import fire\n",
    "import MetaTrader5 as mt5\n",
    "import pytz\n",
    "%matplotlib inline"
   ]
  },
  {
   "cell_type": "markdown",
   "metadata": {},
   "source": [
    "<font color= orange> <font size = 5> 1. Section 1 </font>"
   ]
  },
  {
   "cell_type": "code",
   "execution_count": 8,
   "metadata": {},
   "outputs": [
    {
     "name": "stdout",
     "output_type": "stream",
     "text": [
      "Help on function read_indicator in module data:\n",
      "\n",
      "read_indicator(indicator, date)\n",
      "    Function that reads a .csv or .txt file contaning data \n",
      "    of economic indicators Actual, Previous and Consensus estimates.\n",
      "    \n",
      "    Parameters\n",
      "    ----------\n",
      "    + indicator: Economic indicator contained in files with Datetime,\n",
      "    Actual, Previous and Consensus estimates values in cols (string).\n",
      "    + date: start_date for data extraction of given indicator ('YYYY-MM-DD').\n",
      "    -------\n",
      "    Returns: Historic data with Datetime, Actual, Previous and Consensus \n",
      "    estimates values in cols. (dataframe).\n",
      "\n"
     ]
    }
   ],
   "source": [
    "help(dt.read_indicator)"
   ]
  },
  {
   "cell_type": "code",
   "execution_count": 3,
   "metadata": {},
   "outputs": [
    {
     "data": {
      "text/html": [
       "<div>\n",
       "<style scoped>\n",
       "    .dataframe tbody tr th:only-of-type {\n",
       "        vertical-align: middle;\n",
       "    }\n",
       "\n",
       "    .dataframe tbody tr th {\n",
       "        vertical-align: top;\n",
       "    }\n",
       "\n",
       "    .dataframe thead th {\n",
       "        text-align: right;\n",
       "    }\n",
       "</style>\n",
       "<table border=\"1\" class=\"dataframe\">\n",
       "  <thead>\n",
       "    <tr style=\"text-align: right;\">\n",
       "      <th></th>\n",
       "      <th>DateTime</th>\n",
       "      <th>Actual</th>\n",
       "      <th>Consensus</th>\n",
       "      <th>Previous</th>\n",
       "    </tr>\n",
       "  </thead>\n",
       "  <tbody>\n",
       "    <tr>\n",
       "      <th>0</th>\n",
       "      <td>2020-02-06 13:30:00</td>\n",
       "      <td>202.0</td>\n",
       "      <td>215.0</td>\n",
       "      <td>216.0</td>\n",
       "    </tr>\n",
       "    <tr>\n",
       "      <th>1</th>\n",
       "      <td>2020-01-30 13:30:00</td>\n",
       "      <td>216.0</td>\n",
       "      <td>215.0</td>\n",
       "      <td>211.0</td>\n",
       "    </tr>\n",
       "    <tr>\n",
       "      <th>2</th>\n",
       "      <td>2020-01-23 13:30:00</td>\n",
       "      <td>211.0</td>\n",
       "      <td>215.0</td>\n",
       "      <td>204.0</td>\n",
       "    </tr>\n",
       "    <tr>\n",
       "      <th>3</th>\n",
       "      <td>2020-01-16 13:30:00</td>\n",
       "      <td>204.0</td>\n",
       "      <td>216.0</td>\n",
       "      <td>214.0</td>\n",
       "    </tr>\n",
       "    <tr>\n",
       "      <th>4</th>\n",
       "      <td>2020-01-09 13:30:00</td>\n",
       "      <td>214.0</td>\n",
       "      <td>220.0</td>\n",
       "      <td>222.0</td>\n",
       "    </tr>\n",
       "  </tbody>\n",
       "</table>\n",
       "</div>"
      ],
      "text/plain": [
       "             DateTime  Actual  Consensus  Previous\n",
       "0 2020-02-06 13:30:00   202.0      215.0     216.0\n",
       "1 2020-01-30 13:30:00   216.0      215.0     211.0\n",
       "2 2020-01-23 13:30:00   211.0      215.0     204.0\n",
       "3 2020-01-16 13:30:00   204.0      216.0     214.0\n",
       "4 2020-01-09 13:30:00   214.0      220.0     222.0"
      ]
     },
     "execution_count": 3,
     "metadata": {},
     "output_type": "execute_result"
    }
   ],
   "source": [
    "date = '2018-01-01'\n",
    "data_raw=dt.read_indicator('Initial_Jobless_Claims_US.txt', date)\n",
    "data_raw.head()"
   ]
  },
  {
   "cell_type": "code",
   "execution_count": 4,
   "metadata": {},
   "outputs": [
    {
     "data": {
      "text/html": [
       "<div>\n",
       "<style scoped>\n",
       "    .dataframe tbody tr th:only-of-type {\n",
       "        vertical-align: middle;\n",
       "    }\n",
       "\n",
       "    .dataframe tbody tr th {\n",
       "        vertical-align: top;\n",
       "    }\n",
       "\n",
       "    .dataframe thead th {\n",
       "        text-align: right;\n",
       "    }\n",
       "</style>\n",
       "<table border=\"1\" class=\"dataframe\">\n",
       "  <thead>\n",
       "    <tr style=\"text-align: right;\">\n",
       "      <th></th>\n",
       "      <th>DateTime</th>\n",
       "      <th>Actual</th>\n",
       "      <th>Consensus</th>\n",
       "      <th>Previous</th>\n",
       "    </tr>\n",
       "  </thead>\n",
       "  <tbody>\n",
       "    <tr>\n",
       "      <th>105</th>\n",
       "      <td>2018-02-01 13:30:00</td>\n",
       "      <td>230.0</td>\n",
       "      <td>238.0</td>\n",
       "      <td>233.0</td>\n",
       "    </tr>\n",
       "    <tr>\n",
       "      <th>106</th>\n",
       "      <td>2018-01-25 13:30:00</td>\n",
       "      <td>233.0</td>\n",
       "      <td>240.0</td>\n",
       "      <td>220.0</td>\n",
       "    </tr>\n",
       "    <tr>\n",
       "      <th>107</th>\n",
       "      <td>2018-01-18 13:30:00</td>\n",
       "      <td>220.0</td>\n",
       "      <td>250.0</td>\n",
       "      <td>261.0</td>\n",
       "    </tr>\n",
       "    <tr>\n",
       "      <th>108</th>\n",
       "      <td>2018-01-11 13:30:00</td>\n",
       "      <td>261.0</td>\n",
       "      <td>245.0</td>\n",
       "      <td>250.0</td>\n",
       "    </tr>\n",
       "    <tr>\n",
       "      <th>109</th>\n",
       "      <td>2018-01-04 13:30:00</td>\n",
       "      <td>250.0</td>\n",
       "      <td>240.0</td>\n",
       "      <td>245.0</td>\n",
       "    </tr>\n",
       "  </tbody>\n",
       "</table>\n",
       "</div>"
      ],
      "text/plain": [
       "               DateTime  Actual  Consensus  Previous\n",
       "105 2018-02-01 13:30:00   230.0      238.0     233.0\n",
       "106 2018-01-25 13:30:00   233.0      240.0     220.0\n",
       "107 2018-01-18 13:30:00   220.0      250.0     261.0\n",
       "108 2018-01-11 13:30:00   261.0      245.0     250.0\n",
       "109 2018-01-04 13:30:00   250.0      240.0     245.0"
      ]
     },
     "execution_count": 4,
     "metadata": {},
     "output_type": "execute_result"
    }
   ],
   "source": [
    "data_raw.tail()"
   ]
  },
  {
   "cell_type": "code",
   "execution_count": 9,
   "metadata": {},
   "outputs": [
    {
     "name": "stdout",
     "output_type": "stream",
     "text": [
      "Help on function fx_rate in module data:\n",
      "\n",
      "fx_rate(pairs, account, pw)\n",
      "    Function that download exchange rates data with MetaTrader 5 api.\n",
      "    \n",
      "    Parameters\n",
      "    ----------\n",
      "    + indicator: Economic indicator with Datetime, Actual, Previous and \n",
      "    Consensus estimates values in cols. for its data.\n",
      "    + date: start_date for data extraction of given indicator.\n",
      "    -------\n",
      "    Returns: Historic data with OHCLV, spread, real_volume cols. (dataframe).\n",
      "\n"
     ]
    }
   ],
   "source": [
    "help(dt.fx_rate)"
   ]
  },
  {
   "cell_type": "code",
   "execution_count": 5,
   "metadata": {},
   "outputs": [
    {
     "data": {
      "text/html": [
       "<div>\n",
       "<style scoped>\n",
       "    .dataframe tbody tr th:only-of-type {\n",
       "        vertical-align: middle;\n",
       "    }\n",
       "\n",
       "    .dataframe tbody tr th {\n",
       "        vertical-align: top;\n",
       "    }\n",
       "\n",
       "    .dataframe thead th {\n",
       "        text-align: right;\n",
       "    }\n",
       "</style>\n",
       "<table border=\"1\" class=\"dataframe\">\n",
       "  <thead>\n",
       "    <tr style=\"text-align: right;\">\n",
       "      <th></th>\n",
       "      <th>time</th>\n",
       "      <th>open</th>\n",
       "      <th>high</th>\n",
       "      <th>low</th>\n",
       "      <th>close</th>\n",
       "      <th>tick_volume</th>\n",
       "      <th>spread</th>\n",
       "      <th>real_volume</th>\n",
       "    </tr>\n",
       "  </thead>\n",
       "  <tbody>\n",
       "    <tr>\n",
       "      <th>0</th>\n",
       "      <td>2018-01-02 00:00:00</td>\n",
       "      <td>1.20088</td>\n",
       "      <td>1.20094</td>\n",
       "      <td>1.20007</td>\n",
       "      <td>1.20058</td>\n",
       "      <td>107</td>\n",
       "      <td>18</td>\n",
       "      <td>0</td>\n",
       "    </tr>\n",
       "    <tr>\n",
       "      <th>1</th>\n",
       "      <td>2018-01-02 00:30:00</td>\n",
       "      <td>1.20058</td>\n",
       "      <td>1.20153</td>\n",
       "      <td>1.20058</td>\n",
       "      <td>1.20135</td>\n",
       "      <td>292</td>\n",
       "      <td>18</td>\n",
       "      <td>0</td>\n",
       "    </tr>\n",
       "    <tr>\n",
       "      <th>2</th>\n",
       "      <td>2018-01-02 01:00:00</td>\n",
       "      <td>1.20118</td>\n",
       "      <td>1.20145</td>\n",
       "      <td>1.20045</td>\n",
       "      <td>1.20129</td>\n",
       "      <td>1044</td>\n",
       "      <td>18</td>\n",
       "      <td>0</td>\n",
       "    </tr>\n",
       "    <tr>\n",
       "      <th>3</th>\n",
       "      <td>2018-01-02 01:30:00</td>\n",
       "      <td>1.20130</td>\n",
       "      <td>1.20143</td>\n",
       "      <td>1.20087</td>\n",
       "      <td>1.20098</td>\n",
       "      <td>630</td>\n",
       "      <td>18</td>\n",
       "      <td>0</td>\n",
       "    </tr>\n",
       "    <tr>\n",
       "      <th>4</th>\n",
       "      <td>2018-01-02 02:00:00</td>\n",
       "      <td>1.20087</td>\n",
       "      <td>1.20159</td>\n",
       "      <td>1.20083</td>\n",
       "      <td>1.20137</td>\n",
       "      <td>277</td>\n",
       "      <td>16</td>\n",
       "      <td>0</td>\n",
       "    </tr>\n",
       "  </tbody>\n",
       "</table>\n",
       "</div>"
      ],
      "text/plain": [
       "                 time     open     high      low    close  tick_volume  \\\n",
       "0 2018-01-02 00:00:00  1.20088  1.20094  1.20007  1.20058          107   \n",
       "1 2018-01-02 00:30:00  1.20058  1.20153  1.20058  1.20135          292   \n",
       "2 2018-01-02 01:00:00  1.20118  1.20145  1.20045  1.20129         1044   \n",
       "3 2018-01-02 01:30:00  1.20130  1.20143  1.20087  1.20098          630   \n",
       "4 2018-01-02 02:00:00  1.20087  1.20159  1.20083  1.20137          277   \n",
       "\n",
       "   spread  real_volume  \n",
       "0      18            0  \n",
       "1      18            0  \n",
       "2      18            0  \n",
       "3      18            0  \n",
       "4      16            0  "
      ]
     },
     "execution_count": 5,
     "metadata": {},
     "output_type": "execute_result"
    }
   ],
   "source": [
    "pairs, account, pw = 'EURUSD', 64225494, 'movz2vvi'\n",
    "EURUSD = dt.fx_rate(pairs, account, pw)\n",
    "EURUSD.head()"
   ]
  },
  {
   "cell_type": "code",
   "execution_count": 6,
   "metadata": {},
   "outputs": [
    {
     "data": {
      "text/html": [
       "<div>\n",
       "<style scoped>\n",
       "    .dataframe tbody tr th:only-of-type {\n",
       "        vertical-align: middle;\n",
       "    }\n",
       "\n",
       "    .dataframe tbody tr th {\n",
       "        vertical-align: top;\n",
       "    }\n",
       "\n",
       "    .dataframe thead th {\n",
       "        text-align: right;\n",
       "    }\n",
       "</style>\n",
       "<table border=\"1\" class=\"dataframe\">\n",
       "  <thead>\n",
       "    <tr style=\"text-align: right;\">\n",
       "      <th></th>\n",
       "      <th>time</th>\n",
       "      <th>open</th>\n",
       "      <th>high</th>\n",
       "      <th>low</th>\n",
       "      <th>close</th>\n",
       "      <th>tick_volume</th>\n",
       "      <th>spread</th>\n",
       "      <th>real_volume</th>\n",
       "    </tr>\n",
       "  </thead>\n",
       "  <tbody>\n",
       "    <tr>\n",
       "      <th>26797</th>\n",
       "      <td>2020-02-28 21:30:00</td>\n",
       "      <td>1.10036</td>\n",
       "      <td>1.10327</td>\n",
       "      <td>1.09926</td>\n",
       "      <td>1.10295</td>\n",
       "      <td>3585</td>\n",
       "      <td>1</td>\n",
       "      <td>0</td>\n",
       "    </tr>\n",
       "    <tr>\n",
       "      <th>26798</th>\n",
       "      <td>2020-02-28 22:00:00</td>\n",
       "      <td>1.10293</td>\n",
       "      <td>1.10400</td>\n",
       "      <td>1.10252</td>\n",
       "      <td>1.10396</td>\n",
       "      <td>2251</td>\n",
       "      <td>1</td>\n",
       "      <td>0</td>\n",
       "    </tr>\n",
       "    <tr>\n",
       "      <th>26799</th>\n",
       "      <td>2020-02-28 22:30:00</td>\n",
       "      <td>1.10396</td>\n",
       "      <td>1.10460</td>\n",
       "      <td>1.10333</td>\n",
       "      <td>1.10378</td>\n",
       "      <td>2519</td>\n",
       "      <td>1</td>\n",
       "      <td>0</td>\n",
       "    </tr>\n",
       "    <tr>\n",
       "      <th>26800</th>\n",
       "      <td>2020-02-28 23:00:00</td>\n",
       "      <td>1.10378</td>\n",
       "      <td>1.10429</td>\n",
       "      <td>1.10244</td>\n",
       "      <td>1.10310</td>\n",
       "      <td>1182</td>\n",
       "      <td>1</td>\n",
       "      <td>0</td>\n",
       "    </tr>\n",
       "    <tr>\n",
       "      <th>26801</th>\n",
       "      <td>2020-02-28 23:30:00</td>\n",
       "      <td>1.10310</td>\n",
       "      <td>1.10398</td>\n",
       "      <td>1.10266</td>\n",
       "      <td>1.10293</td>\n",
       "      <td>748</td>\n",
       "      <td>1</td>\n",
       "      <td>0</td>\n",
       "    </tr>\n",
       "  </tbody>\n",
       "</table>\n",
       "</div>"
      ],
      "text/plain": [
       "                     time     open     high      low    close  tick_volume  \\\n",
       "26797 2020-02-28 21:30:00  1.10036  1.10327  1.09926  1.10295         3585   \n",
       "26798 2020-02-28 22:00:00  1.10293  1.10400  1.10252  1.10396         2251   \n",
       "26799 2020-02-28 22:30:00  1.10396  1.10460  1.10333  1.10378         2519   \n",
       "26800 2020-02-28 23:00:00  1.10378  1.10429  1.10244  1.10310         1182   \n",
       "26801 2020-02-28 23:30:00  1.10310  1.10398  1.10266  1.10293          748   \n",
       "\n",
       "       spread  real_volume  \n",
       "26797       1            0  \n",
       "26798       1            0  \n",
       "26799       1            0  \n",
       "26800       1            0  \n",
       "26801       1            0  "
      ]
     },
     "execution_count": 6,
     "metadata": {},
     "output_type": "execute_result"
    }
   ],
   "source": [
    "EURUSD.tail()"
   ]
  },
  {
   "cell_type": "markdown",
   "metadata": {},
   "source": [
    "<font color= orange> <font size = 5> 2. Section 2 </font>"
   ]
  },
  {
   "cell_type": "markdown",
   "metadata": {},
   "source": [
    "<font color= orange> <font size = 5> 3. Section 3 </font>"
   ]
  },
  {
   "cell_type": "markdown",
   "metadata": {},
   "source": [
    "### <font color= orange> <font size = 5> 4. Bibliography: </font>\n",
    "\n",
    "<font color= lightgray>\n",
    "\n",
    "+ Villalobos, O, 2021. **Python Project Template**. Available at: https://github.com/OmarVillalobos/python-project. \n",
    "(Accessed: November 5, 2022). "
   ]
  }
 ],
 "metadata": {
  "kernelspec": {
   "display_name": "base",
   "language": "python",
   "name": "python3"
  },
  "language_info": {
   "codemirror_mode": {
    "name": "ipython",
    "version": 3
   },
   "file_extension": ".py",
   "mimetype": "text/x-python",
   "name": "python",
   "nbconvert_exporter": "python",
   "pygments_lexer": "ipython3",
   "version": "3.8.13"
  },
  "toc": {
   "base_numbering": 1,
   "nav_menu": {},
   "number_sections": true,
   "sideBar": true,
   "skip_h1_title": false,
   "title_cell": "Table of Contents",
   "title_sidebar": "Contents",
   "toc_cell": false,
   "toc_position": {},
   "toc_section_display": true,
   "toc_window_display": false
  },
  "vscode": {
   "interpreter": {
    "hash": "ad2bdc8ecc057115af97d19610ffacc2b4e99fae6737bb82f5d7fb13d2f2c186"
   }
  }
 },
 "nbformat": 4,
 "nbformat_minor": 2
}
