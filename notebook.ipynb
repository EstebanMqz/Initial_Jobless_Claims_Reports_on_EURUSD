{
 "cells": [
  {
   "cell_type": "markdown",
   "metadata": {},
   "source": [
    "\n",
    "    \n",
    "    \n",
    "## <H2 align=\"center\"> <font color='white'> **MAF1731B**: Microstructure and Trading Systems </H2>\n",
    "\n",
    "### <H3 align=\"center\"> <font color='white'> **Project: EUR/USD** Behavior during Initial Jobless Claims statements </H3>\n",
    "\n",
    " <H5 align=\"center\"> <em> Professor: Villalobos Ramos Omar Antonio <em>\n",
    "\n",
    " <p align=\"center\"> <img style=\" margin: 30px 15px 15px 15px;\" src=\"https://pngimage.net/wp-content/uploads/2018/06/logo-iteso-png-5.png\" width=\"350\" height=\"150\" /> \n",
    "\n",
    " <strong> <H5 align=\"left\"> Student:\n",
    "Esteban Márquez Delgado <strong>\n",
    "\n",
    " *Registry*:\n",
    "if700637: https://github.com/EstebanMqz/MyST_Project\n",
    "\n",
    " <center> <font color= #555555> <font size = 4> November 2022 </a> <font color= #555555> <font size = 4> </a></font>"
   ]
  },
  {
   "cell_type": "markdown",
   "metadata": {},
   "source": [
    "<hr style=\"border:0.02in solid gray\"> </hr>"
   ]
  },
  {
   "cell_type": "markdown",
   "metadata": {},
   "source": [
    "<center> <font color= #555555> <font size = 6> Project </font> <br> <br> <font color= #555555> <font size = 5> \n",
    "Project 1: Fundamental Analysis </font>"
   ]
  },
  {
   "cell_type": "markdown",
   "metadata": {},
   "source": [
    "<hr style=\"border:0.02in solid gray\"> </hr>"
   ]
  },
  {
   "cell_type": "markdown",
   "metadata": {},
   "source": [
    "### <font color= #555555> <font size = 4> Abstract </font>"
   ]
  },
  {
   "cell_type": "markdown",
   "metadata": {},
   "source": [
    "This document was prepared as Final Project for Microstructure and Trading Systems - MAF1731B class during the Autumn 2022 course at ITESO for the Bachelor of Financial Engineering. \n",
    "\n",
    "It has the following sections:\n",
    "\n",
    "1. *Description*.\n",
    "\n",
    "2. *Description*.\n",
    "\n",
    "3. *Description*.\n",
    "\n"
   ]
  },
  {
   "cell_type": "markdown",
   "metadata": {},
   "source": [
    "<font color= lightblue> <font size = 4> 0. Libraries and Dependencies: </font>\n",
    "\n",
    "<font color= gray>\n",
    "\n",
    "**Note**: To run this notebook it is necessary to have the following libraries contained in the [requirements.txt](https://github.com/EstebanMqz/MyST_LAB_4/blob/main/requirements.txt) script of this project.\n",
    "\n",
    "To install the libraries in the script run the following cell:"
   ]
  },
  {
   "cell_type": "code",
   "execution_count": null,
   "metadata": {},
   "outputs": [],
   "source": [
    "!pip install -r requirements.txt"
   ]
  },
  {
   "cell_type": "markdown",
   "metadata": {},
   "source": [
    "If you prefer, manual installation can be done with the individual installation of the following libraries:\n",
    "\n",
    "<font color= lightblue> <font size = 1> \n",
    "+ pandas >= 1.3.4\n",
    "+ numpy >= 1.19.1\n",
    "+ jupyter >= 1.0.0\n",
    "+ chart_studio >= 1.1\n",
    "+ plotly >= 4.14\n",
    "+ logging >= 3.11\n",
    "+ datetime >= 4.7\n",
    "+ pandas_datareader >= 0.10.0\n",
    "+ tk >= 0.10\n",
    "+ random >= 3.11\n",
    "+ plotly >= 5.60\n",
    "+ yahoofinancials >= 1.60\n",
    "+ scipy >= 1.7.3\n",
    "+ regex >= 2022.3.15\n",
    "+ matplotlib >= 3.5.1\n",
    "+ fire >= 0.4.0\n",
    "+ ccxt >= 2.1.33\n",
    "+ time >= 3.11 \n"
   ]
  },
  {
   "cell_type": "markdown",
   "metadata": {},
   "source": [
    "### <font color= white> <font size = 4> 0.1 Introduction: </font>\n",
    "\n",
    "<font color= lightblue> <font size = 3> Description: </font>\n",
    "\n",
    "<font color= lightgray>\n",
    "Jobless claims reports are provided on a weekly basis each Thursday at 8.30 am ET by the Employment and Training Administration in Department of Labor and it measures Unemployment Insurance (UI) benefits in the form of weekly payments to eligible workers. \n",
    "\n",
    "\n",
    "The following are the categories for jobless claims:\n",
    "1. **Initial Jobless Claims:** The report is a measure that declares how many citizens filed for state unemployment insurance for the *first time* in the previous week.\n",
    "\n",
    "2. **Continuing Jobless Claims:** It is a measure that states the number of individuals who are already receveing unemployment benefits and they *re-applied* for them in the previous week.\n",
    "\n",
    "It provides Actual, Previous and Consensus estimates in *(thousands)* and it is an important indicator because there's an inverse relationship between jobless claims results and employment:\n",
    "\n",
    "+ As claims decrease, higher consumption and stronger economic growth follows.\n",
    "+ As claims rise, employment numbers fall, consumption decreases and economic growth declines.\n",
    "\n",
    "<font color= lightblue> <font size = 3> Readings: </font>\n",
    "<font color= lightgray>\n",
    "\n",
    "There are two types of readings for reports:\n",
    "\n",
    "+ **Beat**: Lower claims numbers than the market Consensus, *better than expected*.\n",
    "+ **Miss**: Higher claims numbers than the market Consensus, *worse than expected*.\n",
    "\n",
    "\n"
   ]
  },
  {
   "cell_type": "markdown",
   "metadata": {},
   "source": [
    "##### *General help:*\n",
    "<font color= lightgreen> **Note**: Progress checks in sections highlighted. <font color= white>\n",
    "\n",
    "In order, to retrieve specific help from the scripts tree in the project execute the help function on the script or in specific modules from the following:\n",
    "+ [data.py](https://github.com/EstebanMqz/MyST_Project/blob/main/data.py)\n",
    "+ [functions.py](https://github.com/EstebanMqz/MyST_Project/blob/main/functions.py)\n",
    "+ [visualizations.py](https://github.com/EstebanMqz/MyST_Project/blob/main/visualizations.py)"
   ]
  },
  {
   "cell_type": "code",
   "execution_count": 1,
   "metadata": {},
   "outputs": [
    {
     "name": "stderr",
     "output_type": "stream",
     "text": [
      "c:\\ProgramData\\Anaconda3\\lib\\site-packages\\scipy\\__init__.py:146: UserWarning: A NumPy version >=1.16.5 and <1.23.0 is required for this version of SciPy (detected version 1.23.5\n",
      "  warnings.warn(f\"A NumPy version >={np_minversion} and <{np_maxversion}\"\n"
     ]
    }
   ],
   "source": [
    "## Libraries\n",
    "import pandas as pd # Analysis and data management\n",
    "import pandas_datareader as pdr\n",
    "import pandas_datareader.data as web #Data extraction from the web\n",
    "import numpy as np\n",
    "from datetime import datetime, timedelta, date\n",
    "import datetime\n",
    "from tkinter.ttk import Style\n",
    "from tkinter import Y\n",
    "import random as rand\n",
    "import plotly.graph_objects as go #Plotly\n",
    "import plotly.express as px\n",
    "import warnings\n",
    "from yahoofinancials import YahooFinancials # Yfinance \n",
    "import warnings\n",
    "import yfinance as yf\n",
    "import ccxt #Criptocurrencies\n",
    "import logging as log #Exchanges \n",
    "from scipy.optimize import minimize # Optimization \n",
    "from collections import Counter #Counter\n",
    "import time\n",
    "import re\n",
    "import io \n",
    "import glob\n",
    "import os\n",
    "#.Py archives in repo\n",
    "import functions as fn \n",
    "import visualizations as vs\n",
    "import data as dt\n",
    "from os import path\n",
    "import fire\n",
    "import MetaTrader5 as mt5\n",
    "import pytz\n",
    "%matplotlib inline"
   ]
  },
  {
   "cell_type": "markdown",
   "metadata": {},
   "source": [
    "<font color= orange> <font size = 5> 1. Section 1 </font>"
   ]
  },
  {
   "cell_type": "code",
   "execution_count": 2,
   "metadata": {},
   "outputs": [
    {
     "name": "stdout",
     "output_type": "stream",
     "text": [
      "Help on function read_indicator in module data:\n",
      "\n",
      "read_indicator(indicator, date)\n",
      "    Function that reads a .csv or .txt file contaning data \n",
      "    of economic indicators Actual, Previous and Consensus estimates.\n",
      "    \n",
      "    Parameters\n",
      "    ----------\n",
      "    + indicator: Economic indicator contained in files with Datetime,\n",
      "    Actual, Previous and Consensus estimates values in cols (string).\n",
      "    + date: start_date for data extraction of given indicator ('YYYY-MM-DD').\n",
      "    -------\n",
      "    Returns: Historic data with Datetime, Actual, Previous and Consensus \n",
      "    estimates values in cols. (dataframe).\n",
      "\n"
     ]
    }
   ],
   "source": [
    "help(dt.read_indicator)"
   ]
  },
  {
   "cell_type": "code",
   "execution_count": 3,
   "metadata": {},
   "outputs": [
    {
     "data": {
      "text/html": [
       "<div>\n",
       "<style scoped>\n",
       "    .dataframe tbody tr th:only-of-type {\n",
       "        vertical-align: middle;\n",
       "    }\n",
       "\n",
       "    .dataframe tbody tr th {\n",
       "        vertical-align: top;\n",
       "    }\n",
       "\n",
       "    .dataframe thead th {\n",
       "        text-align: right;\n",
       "    }\n",
       "</style>\n",
       "<table border=\"1\" class=\"dataframe\">\n",
       "  <thead>\n",
       "    <tr style=\"text-align: right;\">\n",
       "      <th></th>\n",
       "      <th>DateTime</th>\n",
       "      <th>Actual</th>\n",
       "      <th>Consensus</th>\n",
       "      <th>Previous</th>\n",
       "    </tr>\n",
       "  </thead>\n",
       "  <tbody>\n",
       "    <tr>\n",
       "      <th>0</th>\n",
       "      <td>2020-02-06 13:30:00</td>\n",
       "      <td>202.0</td>\n",
       "      <td>215.0</td>\n",
       "      <td>216.0</td>\n",
       "    </tr>\n",
       "    <tr>\n",
       "      <th>1</th>\n",
       "      <td>2020-01-30 13:30:00</td>\n",
       "      <td>216.0</td>\n",
       "      <td>215.0</td>\n",
       "      <td>211.0</td>\n",
       "    </tr>\n",
       "    <tr>\n",
       "      <th>2</th>\n",
       "      <td>2020-01-23 13:30:00</td>\n",
       "      <td>211.0</td>\n",
       "      <td>215.0</td>\n",
       "      <td>204.0</td>\n",
       "    </tr>\n",
       "    <tr>\n",
       "      <th>3</th>\n",
       "      <td>2020-01-16 13:30:00</td>\n",
       "      <td>204.0</td>\n",
       "      <td>216.0</td>\n",
       "      <td>214.0</td>\n",
       "    </tr>\n",
       "    <tr>\n",
       "      <th>4</th>\n",
       "      <td>2020-01-09 13:30:00</td>\n",
       "      <td>214.0</td>\n",
       "      <td>220.0</td>\n",
       "      <td>222.0</td>\n",
       "    </tr>\n",
       "  </tbody>\n",
       "</table>\n",
       "</div>"
      ],
      "text/plain": [
       "             DateTime  Actual  Consensus  Previous\n",
       "0 2020-02-06 13:30:00   202.0      215.0     216.0\n",
       "1 2020-01-30 13:30:00   216.0      215.0     211.0\n",
       "2 2020-01-23 13:30:00   211.0      215.0     204.0\n",
       "3 2020-01-16 13:30:00   204.0      216.0     214.0\n",
       "4 2020-01-09 13:30:00   214.0      220.0     222.0"
      ]
     },
     "execution_count": 3,
     "metadata": {},
     "output_type": "execute_result"
    }
   ],
   "source": [
    "date = '2018-01-01'\n",
    "data_raw=dt.read_indicator('Initial_Jobless_Claims_US.txt', date)\n",
    "data_raw.head()"
   ]
  },
  {
   "cell_type": "code",
   "execution_count": 4,
   "metadata": {},
   "outputs": [
    {
     "data": {
      "text/html": [
       "<div>\n",
       "<style scoped>\n",
       "    .dataframe tbody tr th:only-of-type {\n",
       "        vertical-align: middle;\n",
       "    }\n",
       "\n",
       "    .dataframe tbody tr th {\n",
       "        vertical-align: top;\n",
       "    }\n",
       "\n",
       "    .dataframe thead th {\n",
       "        text-align: right;\n",
       "    }\n",
       "</style>\n",
       "<table border=\"1\" class=\"dataframe\">\n",
       "  <thead>\n",
       "    <tr style=\"text-align: right;\">\n",
       "      <th></th>\n",
       "      <th>DateTime</th>\n",
       "      <th>Actual</th>\n",
       "      <th>Consensus</th>\n",
       "      <th>Previous</th>\n",
       "    </tr>\n",
       "  </thead>\n",
       "  <tbody>\n",
       "    <tr>\n",
       "      <th>105</th>\n",
       "      <td>2018-02-01 13:30:00</td>\n",
       "      <td>230.0</td>\n",
       "      <td>238.0</td>\n",
       "      <td>233.0</td>\n",
       "    </tr>\n",
       "    <tr>\n",
       "      <th>106</th>\n",
       "      <td>2018-01-25 13:30:00</td>\n",
       "      <td>233.0</td>\n",
       "      <td>240.0</td>\n",
       "      <td>220.0</td>\n",
       "    </tr>\n",
       "    <tr>\n",
       "      <th>107</th>\n",
       "      <td>2018-01-18 13:30:00</td>\n",
       "      <td>220.0</td>\n",
       "      <td>250.0</td>\n",
       "      <td>261.0</td>\n",
       "    </tr>\n",
       "    <tr>\n",
       "      <th>108</th>\n",
       "      <td>2018-01-11 13:30:00</td>\n",
       "      <td>261.0</td>\n",
       "      <td>245.0</td>\n",
       "      <td>250.0</td>\n",
       "    </tr>\n",
       "    <tr>\n",
       "      <th>109</th>\n",
       "      <td>2018-01-04 13:30:00</td>\n",
       "      <td>250.0</td>\n",
       "      <td>240.0</td>\n",
       "      <td>245.0</td>\n",
       "    </tr>\n",
       "  </tbody>\n",
       "</table>\n",
       "</div>"
      ],
      "text/plain": [
       "               DateTime  Actual  Consensus  Previous\n",
       "105 2018-02-01 13:30:00   230.0      238.0     233.0\n",
       "106 2018-01-25 13:30:00   233.0      240.0     220.0\n",
       "107 2018-01-18 13:30:00   220.0      250.0     261.0\n",
       "108 2018-01-11 13:30:00   261.0      245.0     250.0\n",
       "109 2018-01-04 13:30:00   250.0      240.0     245.0"
      ]
     },
     "execution_count": 4,
     "metadata": {},
     "output_type": "execute_result"
    }
   ],
   "source": [
    "data_raw.tail()"
   ]
  },
  {
   "cell_type": "code",
   "execution_count": 5,
   "metadata": {},
   "outputs": [
    {
     "name": "stdout",
     "output_type": "stream",
     "text": [
      "Help on function plotly_graph in module visualizations:\n",
      "\n",
      "plotly_graph(x, y1, y2, name1, name2, x_label, y_label, title)\n",
      "    Function that plots a line+marker graph with plotly.\n",
      "    \n",
      "        Parameters\n",
      "        ----------\n",
      "        x: Values Dataframe to be plotted as index with plotly. #data_raw['DateTime']\n",
      "        y1: Values of reports results (Ac, Pr, Est). #data_raw['Actual']\n",
      "        y2: Values of reports results (Ac, Pr, Est). #data_raw['Consensus']\n",
      "        name1: Label of y1 trace (str). #data_raw.columns[1]\n",
      "        name2: Label of y2 trace (str). #data_raw.columns[2]\n",
      "        x_label: xlabel for plot (str). #data_raw.columns[0]\n",
      "        y_label: y_label for plot (str). # \"Wk. thousands\"        \n",
      "        title: Title of the plot (str). \"Initial Jobless Claims\"\n",
      "    \n",
      "        Returns\n",
      "        -------\n",
      "        Returns 2 traces (y1,y2) in a didactic graph with plotly for x.\n",
      "\n"
     ]
    }
   ],
   "source": [
    "help(vs.plotly_graph)"
   ]
  },
  {
   "cell_type": "code",
   "execution_count": 6,
   "metadata": {},
   "outputs": [
    {
     "data": {
      "application/vnd.plotly.v1+json": {
       "config": {
        "plotlyServerURL": "https://plot.ly"
       },
       "data": [
        {
         "line": {
          "color": "black"
         },
         "marker": {
          "color": "blue",
          "symbol": 2
         },
         "mode": "lines+markers",
         "name": "Actual",
         "type": "scatter",
         "x": [
          "2020-02-06T13:30:00",
          "2020-01-30T13:30:00",
          "2020-01-23T13:30:00",
          "2020-01-16T13:30:00",
          "2020-01-09T13:30:00",
          "2020-01-02T13:30:00",
          "2019-12-26T13:30:00",
          "2019-12-19T13:30:00",
          "2019-12-12T13:30:00",
          "2019-12-05T13:30:00",
          "2019-11-27T13:30:00",
          "2019-11-21T13:30:00",
          "2019-11-14T13:30:00",
          "2019-11-07T13:30:00",
          "2019-10-31T12:30:00",
          "2019-10-24T12:30:00",
          "2019-10-17T12:30:00",
          "2019-10-10T12:30:00",
          "2019-10-03T12:30:00",
          "2019-09-26T12:30:00",
          "2019-09-19T12:30:00",
          "2019-09-12T12:30:00",
          "2019-09-05T12:30:00",
          "2019-08-29T12:30:00",
          "2019-08-22T12:30:00",
          "2019-08-15T12:30:00",
          "2019-08-08T12:30:00",
          "2019-08-01T12:30:00",
          "2019-07-25T12:30:00",
          "2019-07-18T12:30:00",
          "2019-07-11T12:30:00",
          "2019-07-03T12:30:00",
          "2019-06-27T12:30:00",
          "2019-06-20T12:30:00",
          "2019-06-13T12:30:00",
          "2019-06-06T12:30:00",
          "2019-05-30T12:30:00",
          "2019-05-23T12:30:00",
          "2019-05-16T12:30:00",
          "2019-05-09T12:30:00",
          "2019-05-02T12:30:00",
          "2019-04-25T12:30:00",
          "2019-04-18T12:30:00",
          "2019-04-11T12:30:00",
          "2019-04-04T12:30:00",
          "2019-03-28T12:30:00",
          "2019-03-21T12:30:00",
          "2019-03-14T12:30:00",
          "2019-03-07T13:30:00",
          "2019-02-28T13:30:00",
          "2019-02-21T13:30:00",
          "2019-02-14T13:30:00",
          "2019-02-07T13:30:00",
          "2019-01-31T13:30:00",
          "2019-01-24T13:30:00",
          "2019-01-17T13:30:00",
          "2019-01-10T13:30:00",
          "2019-01-03T13:30:00",
          "2018-12-27T13:30:00",
          "2018-12-20T13:30:00",
          "2018-12-13T13:30:00",
          "2018-12-06T13:30:00",
          "2018-11-29T13:30:00",
          "2018-11-21T13:30:00",
          "2018-11-15T13:30:00",
          "2018-11-08T13:30:00",
          "2018-11-01T12:30:00",
          "2018-10-25T12:30:00",
          "2018-10-18T12:30:00",
          "2018-10-11T12:30:00",
          "2018-10-04T12:30:00",
          "2018-09-27T12:30:00",
          "2018-09-20T12:30:00",
          "2018-09-13T12:30:00",
          "2018-09-06T12:30:00",
          "2018-08-30T12:30:00",
          "2018-08-23T12:30:00",
          "2018-08-16T12:30:00",
          "2018-08-09T12:30:00",
          "2018-08-02T12:30:00",
          "2018-07-26T12:30:00",
          "2018-07-19T12:30:00",
          "2018-07-12T12:30:00",
          "2018-07-05T12:30:00",
          "2018-06-28T12:30:00",
          "2018-06-21T12:30:00",
          "2018-06-14T12:30:00",
          "2018-06-07T12:30:00",
          "2018-05-31T12:30:00",
          "2018-05-24T12:30:00",
          "2018-05-17T12:30:00",
          "2018-05-10T12:30:00",
          "2018-05-03T12:30:00",
          "2018-04-26T12:30:00",
          "2018-04-19T12:30:00",
          "2018-04-12T12:30:00",
          "2018-04-05T12:30:00",
          "2018-03-29T12:30:00",
          "2018-03-22T12:30:00",
          "2018-03-15T12:30:00",
          "2018-03-08T13:30:00",
          "2018-03-01T13:30:00",
          "2018-02-22T13:30:00",
          "2018-02-15T13:30:00",
          "2018-02-08T13:30:00",
          "2018-02-01T13:30:00",
          "2018-01-25T13:30:00",
          "2018-01-18T13:30:00",
          "2018-01-11T13:30:00",
          "2018-01-04T13:30:00"
         ],
         "y": [
          202,
          216,
          211,
          204,
          214,
          222,
          222,
          234,
          252,
          203,
          213,
          227,
          225,
          211,
          218,
          212,
          214,
          210,
          219,
          213,
          208,
          204,
          217,
          215,
          209,
          220,
          209,
          215,
          206,
          216,
          209,
          221,
          227,
          216,
          222,
          218,
          215,
          211,
          212,
          228,
          230,
          230,
          192,
          196,
          202,
          211,
          221,
          229,
          223,
          225,
          216,
          239,
          234,
          253,
          199,
          213,
          216,
          231,
          216,
          214,
          206,
          231,
          234,
          224,
          216,
          214,
          214,
          215,
          210,
          214,
          207,
          214,
          201,
          204,
          203,
          213,
          210,
          212,
          213,
          218,
          217,
          207,
          214,
          231,
          227,
          218,
          218,
          222,
          221,
          234,
          222,
          211,
          211,
          209,
          232,
          233,
          242,
          215,
          229,
          226,
          231,
          210,
          222,
          230,
          221,
          230,
          233,
          220,
          261,
          250
         ]
        },
        {
         "line": {
          "color": "black"
         },
         "marker": {
          "color": "green",
          "symbol": 2
         },
         "mode": "lines+markers",
         "name": "Consensus",
         "type": "scatter",
         "x": [
          "2020-02-06T13:30:00",
          "2020-01-30T13:30:00",
          "2020-01-23T13:30:00",
          "2020-01-16T13:30:00",
          "2020-01-09T13:30:00",
          "2020-01-02T13:30:00",
          "2019-12-26T13:30:00",
          "2019-12-19T13:30:00",
          "2019-12-12T13:30:00",
          "2019-12-05T13:30:00",
          "2019-11-27T13:30:00",
          "2019-11-21T13:30:00",
          "2019-11-14T13:30:00",
          "2019-11-07T13:30:00",
          "2019-10-31T12:30:00",
          "2019-10-24T12:30:00",
          "2019-10-17T12:30:00",
          "2019-10-10T12:30:00",
          "2019-10-03T12:30:00",
          "2019-09-26T12:30:00",
          "2019-09-19T12:30:00",
          "2019-09-12T12:30:00",
          "2019-09-05T12:30:00",
          "2019-08-29T12:30:00",
          "2019-08-22T12:30:00",
          "2019-08-15T12:30:00",
          "2019-08-08T12:30:00",
          "2019-08-01T12:30:00",
          "2019-07-25T12:30:00",
          "2019-07-18T12:30:00",
          "2019-07-11T12:30:00",
          "2019-07-03T12:30:00",
          "2019-06-27T12:30:00",
          "2019-06-20T12:30:00",
          "2019-06-13T12:30:00",
          "2019-06-06T12:30:00",
          "2019-05-30T12:30:00",
          "2019-05-23T12:30:00",
          "2019-05-16T12:30:00",
          "2019-05-09T12:30:00",
          "2019-05-02T12:30:00",
          "2019-04-25T12:30:00",
          "2019-04-18T12:30:00",
          "2019-04-11T12:30:00",
          "2019-04-04T12:30:00",
          "2019-03-28T12:30:00",
          "2019-03-21T12:30:00",
          "2019-03-14T12:30:00",
          "2019-03-07T13:30:00",
          "2019-02-28T13:30:00",
          "2019-02-21T13:30:00",
          "2019-02-14T13:30:00",
          "2019-02-07T13:30:00",
          "2019-01-31T13:30:00",
          "2019-01-24T13:30:00",
          "2019-01-17T13:30:00",
          "2019-01-10T13:30:00",
          "2019-01-03T13:30:00",
          "2018-12-27T13:30:00",
          "2018-12-20T13:30:00",
          "2018-12-13T13:30:00",
          "2018-12-06T13:30:00",
          "2018-11-29T13:30:00",
          "2018-11-21T13:30:00",
          "2018-11-15T13:30:00",
          "2018-11-08T13:30:00",
          "2018-11-01T12:30:00",
          "2018-10-25T12:30:00",
          "2018-10-18T12:30:00",
          "2018-10-11T12:30:00",
          "2018-10-04T12:30:00",
          "2018-09-27T12:30:00",
          "2018-09-20T12:30:00",
          "2018-09-13T12:30:00",
          "2018-09-06T12:30:00",
          "2018-08-30T12:30:00",
          "2018-08-23T12:30:00",
          "2018-08-16T12:30:00",
          "2018-08-09T12:30:00",
          "2018-08-02T12:30:00",
          "2018-07-26T12:30:00",
          "2018-07-19T12:30:00",
          "2018-07-12T12:30:00",
          "2018-07-05T12:30:00",
          "2018-06-28T12:30:00",
          "2018-06-21T12:30:00",
          "2018-06-14T12:30:00",
          "2018-06-07T12:30:00",
          "2018-05-31T12:30:00",
          "2018-05-24T12:30:00",
          "2018-05-17T12:30:00",
          "2018-05-10T12:30:00",
          "2018-05-03T12:30:00",
          "2018-04-26T12:30:00",
          "2018-04-19T12:30:00",
          "2018-04-12T12:30:00",
          "2018-04-05T12:30:00",
          "2018-03-29T12:30:00",
          "2018-03-22T12:30:00",
          "2018-03-15T12:30:00",
          "2018-03-08T13:30:00",
          "2018-03-01T13:30:00",
          "2018-02-22T13:30:00",
          "2018-02-15T13:30:00",
          "2018-02-08T13:30:00",
          "2018-02-01T13:30:00",
          "2018-01-25T13:30:00",
          "2018-01-18T13:30:00",
          "2018-01-11T13:30:00",
          "2018-01-04T13:30:00"
         ],
         "y": [
          215,
          215,
          215,
          216,
          220,
          225,
          224,
          225,
          213,
          215,
          221,
          219,
          215,
          215,
          215,
          215,
          215,
          219,
          215,
          212,
          213,
          215,
          215,
          215,
          216,
          214,
          215,
          214,
          219,
          216,
          223,
          223,
          220,
          220,
          216,
          215,
          215,
          215,
          220,
          220,
          215,
          200,
          205,
          211,
          216,
          225,
          225,
          225,
          225,
          220,
          229,
          225,
          221,
          215,
          220,
          220,
          225,
          220,
          217,
          216,
          225,
          225,
          220,
          215,
          212,
          214,
          213,
          214,
          212,
          206,
          213,
          210,
          210,
          210,
          214,
          214,
          215,
          215,
          220,
          220,
          215,
          220,
          225,
          225,
          220,
          220,
          224,
          225,
          228,
          220,
          215,
          218,
          225,
          230,
          230,
          230,
          225,
          230,
          225,
          226,
          220,
          226,
          230,
          230,
          232,
          238,
          240,
          250,
          245,
          240
         ]
        }
       ],
       "layout": {
        "template": {
         "data": {
          "bar": [
           {
            "error_x": {
             "color": "#2a3f5f"
            },
            "error_y": {
             "color": "#2a3f5f"
            },
            "marker": {
             "line": {
              "color": "#E5ECF6",
              "width": 0.5
             },
             "pattern": {
              "fillmode": "overlay",
              "size": 10,
              "solidity": 0.2
             }
            },
            "type": "bar"
           }
          ],
          "barpolar": [
           {
            "marker": {
             "line": {
              "color": "#E5ECF6",
              "width": 0.5
             },
             "pattern": {
              "fillmode": "overlay",
              "size": 10,
              "solidity": 0.2
             }
            },
            "type": "barpolar"
           }
          ],
          "carpet": [
           {
            "aaxis": {
             "endlinecolor": "#2a3f5f",
             "gridcolor": "white",
             "linecolor": "white",
             "minorgridcolor": "white",
             "startlinecolor": "#2a3f5f"
            },
            "baxis": {
             "endlinecolor": "#2a3f5f",
             "gridcolor": "white",
             "linecolor": "white",
             "minorgridcolor": "white",
             "startlinecolor": "#2a3f5f"
            },
            "type": "carpet"
           }
          ],
          "choropleth": [
           {
            "colorbar": {
             "outlinewidth": 0,
             "ticks": ""
            },
            "type": "choropleth"
           }
          ],
          "contour": [
           {
            "colorbar": {
             "outlinewidth": 0,
             "ticks": ""
            },
            "colorscale": [
             [
              0,
              "#0d0887"
             ],
             [
              0.1111111111111111,
              "#46039f"
             ],
             [
              0.2222222222222222,
              "#7201a8"
             ],
             [
              0.3333333333333333,
              "#9c179e"
             ],
             [
              0.4444444444444444,
              "#bd3786"
             ],
             [
              0.5555555555555556,
              "#d8576b"
             ],
             [
              0.6666666666666666,
              "#ed7953"
             ],
             [
              0.7777777777777778,
              "#fb9f3a"
             ],
             [
              0.8888888888888888,
              "#fdca26"
             ],
             [
              1,
              "#f0f921"
             ]
            ],
            "type": "contour"
           }
          ],
          "contourcarpet": [
           {
            "colorbar": {
             "outlinewidth": 0,
             "ticks": ""
            },
            "type": "contourcarpet"
           }
          ],
          "heatmap": [
           {
            "colorbar": {
             "outlinewidth": 0,
             "ticks": ""
            },
            "colorscale": [
             [
              0,
              "#0d0887"
             ],
             [
              0.1111111111111111,
              "#46039f"
             ],
             [
              0.2222222222222222,
              "#7201a8"
             ],
             [
              0.3333333333333333,
              "#9c179e"
             ],
             [
              0.4444444444444444,
              "#bd3786"
             ],
             [
              0.5555555555555556,
              "#d8576b"
             ],
             [
              0.6666666666666666,
              "#ed7953"
             ],
             [
              0.7777777777777778,
              "#fb9f3a"
             ],
             [
              0.8888888888888888,
              "#fdca26"
             ],
             [
              1,
              "#f0f921"
             ]
            ],
            "type": "heatmap"
           }
          ],
          "heatmapgl": [
           {
            "colorbar": {
             "outlinewidth": 0,
             "ticks": ""
            },
            "colorscale": [
             [
              0,
              "#0d0887"
             ],
             [
              0.1111111111111111,
              "#46039f"
             ],
             [
              0.2222222222222222,
              "#7201a8"
             ],
             [
              0.3333333333333333,
              "#9c179e"
             ],
             [
              0.4444444444444444,
              "#bd3786"
             ],
             [
              0.5555555555555556,
              "#d8576b"
             ],
             [
              0.6666666666666666,
              "#ed7953"
             ],
             [
              0.7777777777777778,
              "#fb9f3a"
             ],
             [
              0.8888888888888888,
              "#fdca26"
             ],
             [
              1,
              "#f0f921"
             ]
            ],
            "type": "heatmapgl"
           }
          ],
          "histogram": [
           {
            "marker": {
             "pattern": {
              "fillmode": "overlay",
              "size": 10,
              "solidity": 0.2
             }
            },
            "type": "histogram"
           }
          ],
          "histogram2d": [
           {
            "colorbar": {
             "outlinewidth": 0,
             "ticks": ""
            },
            "colorscale": [
             [
              0,
              "#0d0887"
             ],
             [
              0.1111111111111111,
              "#46039f"
             ],
             [
              0.2222222222222222,
              "#7201a8"
             ],
             [
              0.3333333333333333,
              "#9c179e"
             ],
             [
              0.4444444444444444,
              "#bd3786"
             ],
             [
              0.5555555555555556,
              "#d8576b"
             ],
             [
              0.6666666666666666,
              "#ed7953"
             ],
             [
              0.7777777777777778,
              "#fb9f3a"
             ],
             [
              0.8888888888888888,
              "#fdca26"
             ],
             [
              1,
              "#f0f921"
             ]
            ],
            "type": "histogram2d"
           }
          ],
          "histogram2dcontour": [
           {
            "colorbar": {
             "outlinewidth": 0,
             "ticks": ""
            },
            "colorscale": [
             [
              0,
              "#0d0887"
             ],
             [
              0.1111111111111111,
              "#46039f"
             ],
             [
              0.2222222222222222,
              "#7201a8"
             ],
             [
              0.3333333333333333,
              "#9c179e"
             ],
             [
              0.4444444444444444,
              "#bd3786"
             ],
             [
              0.5555555555555556,
              "#d8576b"
             ],
             [
              0.6666666666666666,
              "#ed7953"
             ],
             [
              0.7777777777777778,
              "#fb9f3a"
             ],
             [
              0.8888888888888888,
              "#fdca26"
             ],
             [
              1,
              "#f0f921"
             ]
            ],
            "type": "histogram2dcontour"
           }
          ],
          "mesh3d": [
           {
            "colorbar": {
             "outlinewidth": 0,
             "ticks": ""
            },
            "type": "mesh3d"
           }
          ],
          "parcoords": [
           {
            "line": {
             "colorbar": {
              "outlinewidth": 0,
              "ticks": ""
             }
            },
            "type": "parcoords"
           }
          ],
          "pie": [
           {
            "automargin": true,
            "type": "pie"
           }
          ],
          "scatter": [
           {
            "marker": {
             "colorbar": {
              "outlinewidth": 0,
              "ticks": ""
             }
            },
            "type": "scatter"
           }
          ],
          "scatter3d": [
           {
            "line": {
             "colorbar": {
              "outlinewidth": 0,
              "ticks": ""
             }
            },
            "marker": {
             "colorbar": {
              "outlinewidth": 0,
              "ticks": ""
             }
            },
            "type": "scatter3d"
           }
          ],
          "scattercarpet": [
           {
            "marker": {
             "colorbar": {
              "outlinewidth": 0,
              "ticks": ""
             }
            },
            "type": "scattercarpet"
           }
          ],
          "scattergeo": [
           {
            "marker": {
             "colorbar": {
              "outlinewidth": 0,
              "ticks": ""
             }
            },
            "type": "scattergeo"
           }
          ],
          "scattergl": [
           {
            "marker": {
             "colorbar": {
              "outlinewidth": 0,
              "ticks": ""
             }
            },
            "type": "scattergl"
           }
          ],
          "scattermapbox": [
           {
            "marker": {
             "colorbar": {
              "outlinewidth": 0,
              "ticks": ""
             }
            },
            "type": "scattermapbox"
           }
          ],
          "scatterpolar": [
           {
            "marker": {
             "colorbar": {
              "outlinewidth": 0,
              "ticks": ""
             }
            },
            "type": "scatterpolar"
           }
          ],
          "scatterpolargl": [
           {
            "marker": {
             "colorbar": {
              "outlinewidth": 0,
              "ticks": ""
             }
            },
            "type": "scatterpolargl"
           }
          ],
          "scatterternary": [
           {
            "marker": {
             "colorbar": {
              "outlinewidth": 0,
              "ticks": ""
             }
            },
            "type": "scatterternary"
           }
          ],
          "surface": [
           {
            "colorbar": {
             "outlinewidth": 0,
             "ticks": ""
            },
            "colorscale": [
             [
              0,
              "#0d0887"
             ],
             [
              0.1111111111111111,
              "#46039f"
             ],
             [
              0.2222222222222222,
              "#7201a8"
             ],
             [
              0.3333333333333333,
              "#9c179e"
             ],
             [
              0.4444444444444444,
              "#bd3786"
             ],
             [
              0.5555555555555556,
              "#d8576b"
             ],
             [
              0.6666666666666666,
              "#ed7953"
             ],
             [
              0.7777777777777778,
              "#fb9f3a"
             ],
             [
              0.8888888888888888,
              "#fdca26"
             ],
             [
              1,
              "#f0f921"
             ]
            ],
            "type": "surface"
           }
          ],
          "table": [
           {
            "cells": {
             "fill": {
              "color": "#EBF0F8"
             },
             "line": {
              "color": "white"
             }
            },
            "header": {
             "fill": {
              "color": "#C8D4E3"
             },
             "line": {
              "color": "white"
             }
            },
            "type": "table"
           }
          ]
         },
         "layout": {
          "annotationdefaults": {
           "arrowcolor": "#2a3f5f",
           "arrowhead": 0,
           "arrowwidth": 1
          },
          "autotypenumbers": "strict",
          "coloraxis": {
           "colorbar": {
            "outlinewidth": 0,
            "ticks": ""
           }
          },
          "colorscale": {
           "diverging": [
            [
             0,
             "#8e0152"
            ],
            [
             0.1,
             "#c51b7d"
            ],
            [
             0.2,
             "#de77ae"
            ],
            [
             0.3,
             "#f1b6da"
            ],
            [
             0.4,
             "#fde0ef"
            ],
            [
             0.5,
             "#f7f7f7"
            ],
            [
             0.6,
             "#e6f5d0"
            ],
            [
             0.7,
             "#b8e186"
            ],
            [
             0.8,
             "#7fbc41"
            ],
            [
             0.9,
             "#4d9221"
            ],
            [
             1,
             "#276419"
            ]
           ],
           "sequential": [
            [
             0,
             "#0d0887"
            ],
            [
             0.1111111111111111,
             "#46039f"
            ],
            [
             0.2222222222222222,
             "#7201a8"
            ],
            [
             0.3333333333333333,
             "#9c179e"
            ],
            [
             0.4444444444444444,
             "#bd3786"
            ],
            [
             0.5555555555555556,
             "#d8576b"
            ],
            [
             0.6666666666666666,
             "#ed7953"
            ],
            [
             0.7777777777777778,
             "#fb9f3a"
            ],
            [
             0.8888888888888888,
             "#fdca26"
            ],
            [
             1,
             "#f0f921"
            ]
           ],
           "sequentialminus": [
            [
             0,
             "#0d0887"
            ],
            [
             0.1111111111111111,
             "#46039f"
            ],
            [
             0.2222222222222222,
             "#7201a8"
            ],
            [
             0.3333333333333333,
             "#9c179e"
            ],
            [
             0.4444444444444444,
             "#bd3786"
            ],
            [
             0.5555555555555556,
             "#d8576b"
            ],
            [
             0.6666666666666666,
             "#ed7953"
            ],
            [
             0.7777777777777778,
             "#fb9f3a"
            ],
            [
             0.8888888888888888,
             "#fdca26"
            ],
            [
             1,
             "#f0f921"
            ]
           ]
          },
          "colorway": [
           "#636efa",
           "#EF553B",
           "#00cc96",
           "#ab63fa",
           "#FFA15A",
           "#19d3f3",
           "#FF6692",
           "#B6E880",
           "#FF97FF",
           "#FECB52"
          ],
          "font": {
           "color": "#2a3f5f"
          },
          "geo": {
           "bgcolor": "white",
           "lakecolor": "white",
           "landcolor": "#E5ECF6",
           "showlakes": true,
           "showland": true,
           "subunitcolor": "white"
          },
          "hoverlabel": {
           "align": "left"
          },
          "hovermode": "closest",
          "mapbox": {
           "style": "light"
          },
          "paper_bgcolor": "white",
          "plot_bgcolor": "#E5ECF6",
          "polar": {
           "angularaxis": {
            "gridcolor": "white",
            "linecolor": "white",
            "ticks": ""
           },
           "bgcolor": "#E5ECF6",
           "radialaxis": {
            "gridcolor": "white",
            "linecolor": "white",
            "ticks": ""
           }
          },
          "scene": {
           "xaxis": {
            "backgroundcolor": "#E5ECF6",
            "gridcolor": "white",
            "gridwidth": 2,
            "linecolor": "white",
            "showbackground": true,
            "ticks": "",
            "zerolinecolor": "white"
           },
           "yaxis": {
            "backgroundcolor": "#E5ECF6",
            "gridcolor": "white",
            "gridwidth": 2,
            "linecolor": "white",
            "showbackground": true,
            "ticks": "",
            "zerolinecolor": "white"
           },
           "zaxis": {
            "backgroundcolor": "#E5ECF6",
            "gridcolor": "white",
            "gridwidth": 2,
            "linecolor": "white",
            "showbackground": true,
            "ticks": "",
            "zerolinecolor": "white"
           }
          },
          "shapedefaults": {
           "line": {
            "color": "#2a3f5f"
           }
          },
          "ternary": {
           "aaxis": {
            "gridcolor": "white",
            "linecolor": "white",
            "ticks": ""
           },
           "baxis": {
            "gridcolor": "white",
            "linecolor": "white",
            "ticks": ""
           },
           "bgcolor": "#E5ECF6",
           "caxis": {
            "gridcolor": "white",
            "linecolor": "white",
            "ticks": ""
           }
          },
          "title": {
           "x": 0.05
          },
          "xaxis": {
           "automargin": true,
           "gridcolor": "white",
           "linecolor": "white",
           "ticks": "",
           "title": {
            "standoff": 15
           },
           "zerolinecolor": "white",
           "zerolinewidth": 2
          },
          "yaxis": {
           "automargin": true,
           "gridcolor": "white",
           "linecolor": "white",
           "ticks": "",
           "title": {
            "standoff": 15
           },
           "zerolinecolor": "white",
           "zerolinewidth": 2
          }
         }
        },
        "title": {
         "text": "Initial Jobless Claims"
        },
        "xaxis": {
         "showspikes": true,
         "title": {
          "text": "DateTime"
         }
        },
        "yaxis": {
         "showspikes": true,
         "title": {
          "text": "Wk. thousands"
         }
        }
       }
      }
     },
     "metadata": {},
     "output_type": "display_data"
    }
   ],
   "source": [
    "vs.plotly_graph(data_raw['DateTime'], data_raw['Actual'], data_raw['Consensus'], data_raw.columns[1],\n",
    "data_raw.columns[2], data_raw.columns[0], \"Wk. thousands\", \"Initial Jobless Claims\")"
   ]
  },
  {
   "cell_type": "code",
   "execution_count": 7,
   "metadata": {},
   "outputs": [
    {
     "name": "stdout",
     "output_type": "stream",
     "text": [
      "Help on function fx_rate in module data:\n",
      "\n",
      "fx_rate(pairs, account, pw)\n",
      "    Function that downloads exchange rates data with MetaTrader 5 api.\n",
      "    \n",
      "    Parameters\n",
      "    ----------\n",
      "    + indicator: Economic indicator with Datetime, Actual, Previous and \n",
      "    Consensus estimates values in cols. for its data.\n",
      "    + date: start_date for data extraction of given indicator.\n",
      "    -------\n",
      "    Returns: Historic data with OHCLV, spread and real_volume cols. (dataframe).\n",
      "\n"
     ]
    }
   ],
   "source": [
    "help(dt.fx_rate)"
   ]
  },
  {
   "cell_type": "code",
   "execution_count": 11,
   "metadata": {},
   "outputs": [
    {
     "data": {
      "text/html": [
       "<div>\n",
       "<style scoped>\n",
       "    .dataframe tbody tr th:only-of-type {\n",
       "        vertical-align: middle;\n",
       "    }\n",
       "\n",
       "    .dataframe tbody tr th {\n",
       "        vertical-align: top;\n",
       "    }\n",
       "\n",
       "    .dataframe thead th {\n",
       "        text-align: right;\n",
       "    }\n",
       "</style>\n",
       "<table border=\"1\" class=\"dataframe\">\n",
       "  <thead>\n",
       "    <tr style=\"text-align: right;\">\n",
       "      <th></th>\n",
       "      <th>time</th>\n",
       "      <th>open</th>\n",
       "      <th>high</th>\n",
       "      <th>low</th>\n",
       "      <th>close</th>\n",
       "      <th>tick_volume</th>\n",
       "      <th>spread</th>\n",
       "      <th>real_volume</th>\n",
       "    </tr>\n",
       "  </thead>\n",
       "  <tbody>\n",
       "    <tr>\n",
       "      <th>0</th>\n",
       "      <td>2018-01-02 00:00:00</td>\n",
       "      <td>1.20088</td>\n",
       "      <td>1.20094</td>\n",
       "      <td>1.20007</td>\n",
       "      <td>1.20058</td>\n",
       "      <td>107</td>\n",
       "      <td>18</td>\n",
       "      <td>0</td>\n",
       "    </tr>\n",
       "    <tr>\n",
       "      <th>1</th>\n",
       "      <td>2018-01-02 00:30:00</td>\n",
       "      <td>1.20058</td>\n",
       "      <td>1.20153</td>\n",
       "      <td>1.20058</td>\n",
       "      <td>1.20135</td>\n",
       "      <td>292</td>\n",
       "      <td>18</td>\n",
       "      <td>0</td>\n",
       "    </tr>\n",
       "    <tr>\n",
       "      <th>2</th>\n",
       "      <td>2018-01-02 01:00:00</td>\n",
       "      <td>1.20118</td>\n",
       "      <td>1.20145</td>\n",
       "      <td>1.20045</td>\n",
       "      <td>1.20129</td>\n",
       "      <td>1044</td>\n",
       "      <td>18</td>\n",
       "      <td>0</td>\n",
       "    </tr>\n",
       "    <tr>\n",
       "      <th>3</th>\n",
       "      <td>2018-01-02 01:30:00</td>\n",
       "      <td>1.20130</td>\n",
       "      <td>1.20143</td>\n",
       "      <td>1.20087</td>\n",
       "      <td>1.20098</td>\n",
       "      <td>630</td>\n",
       "      <td>18</td>\n",
       "      <td>0</td>\n",
       "    </tr>\n",
       "    <tr>\n",
       "      <th>4</th>\n",
       "      <td>2018-01-02 02:00:00</td>\n",
       "      <td>1.20087</td>\n",
       "      <td>1.20159</td>\n",
       "      <td>1.20083</td>\n",
       "      <td>1.20137</td>\n",
       "      <td>277</td>\n",
       "      <td>16</td>\n",
       "      <td>0</td>\n",
       "    </tr>\n",
       "    <tr>\n",
       "      <th>5</th>\n",
       "      <td>2018-01-02 02:30:00</td>\n",
       "      <td>1.20136</td>\n",
       "      <td>1.20156</td>\n",
       "      <td>1.20105</td>\n",
       "      <td>1.20152</td>\n",
       "      <td>361</td>\n",
       "      <td>16</td>\n",
       "      <td>0</td>\n",
       "    </tr>\n",
       "    <tr>\n",
       "      <th>6</th>\n",
       "      <td>2018-01-02 03:00:00</td>\n",
       "      <td>1.20151</td>\n",
       "      <td>1.20223</td>\n",
       "      <td>1.20151</td>\n",
       "      <td>1.20216</td>\n",
       "      <td>743</td>\n",
       "      <td>17</td>\n",
       "      <td>0</td>\n",
       "    </tr>\n",
       "    <tr>\n",
       "      <th>7</th>\n",
       "      <td>2018-01-02 03:30:00</td>\n",
       "      <td>1.20219</td>\n",
       "      <td>1.20219</td>\n",
       "      <td>1.20136</td>\n",
       "      <td>1.20146</td>\n",
       "      <td>451</td>\n",
       "      <td>17</td>\n",
       "      <td>0</td>\n",
       "    </tr>\n",
       "    <tr>\n",
       "      <th>8</th>\n",
       "      <td>2018-01-02 04:00:00</td>\n",
       "      <td>1.20152</td>\n",
       "      <td>1.20154</td>\n",
       "      <td>1.20088</td>\n",
       "      <td>1.20111</td>\n",
       "      <td>437</td>\n",
       "      <td>18</td>\n",
       "      <td>0</td>\n",
       "    </tr>\n",
       "    <tr>\n",
       "      <th>9</th>\n",
       "      <td>2018-01-02 04:30:00</td>\n",
       "      <td>1.20112</td>\n",
       "      <td>1.20117</td>\n",
       "      <td>1.20069</td>\n",
       "      <td>1.20087</td>\n",
       "      <td>505</td>\n",
       "      <td>17</td>\n",
       "      <td>0</td>\n",
       "    </tr>\n",
       "  </tbody>\n",
       "</table>\n",
       "</div>"
      ],
      "text/plain": [
       "                 time     open     high      low    close  tick_volume  \\\n",
       "0 2018-01-02 00:00:00  1.20088  1.20094  1.20007  1.20058          107   \n",
       "1 2018-01-02 00:30:00  1.20058  1.20153  1.20058  1.20135          292   \n",
       "2 2018-01-02 01:00:00  1.20118  1.20145  1.20045  1.20129         1044   \n",
       "3 2018-01-02 01:30:00  1.20130  1.20143  1.20087  1.20098          630   \n",
       "4 2018-01-02 02:00:00  1.20087  1.20159  1.20083  1.20137          277   \n",
       "5 2018-01-02 02:30:00  1.20136  1.20156  1.20105  1.20152          361   \n",
       "6 2018-01-02 03:00:00  1.20151  1.20223  1.20151  1.20216          743   \n",
       "7 2018-01-02 03:30:00  1.20219  1.20219  1.20136  1.20146          451   \n",
       "8 2018-01-02 04:00:00  1.20152  1.20154  1.20088  1.20111          437   \n",
       "9 2018-01-02 04:30:00  1.20112  1.20117  1.20069  1.20087          505   \n",
       "\n",
       "   spread  real_volume  \n",
       "0      18            0  \n",
       "1      18            0  \n",
       "2      18            0  \n",
       "3      18            0  \n",
       "4      16            0  \n",
       "5      16            0  \n",
       "6      17            0  \n",
       "7      17            0  \n",
       "8      18            0  \n",
       "9      17            0  "
      ]
     },
     "execution_count": 11,
     "metadata": {},
     "output_type": "execute_result"
    }
   ],
   "source": [
    "pairs, account, pw = 'EURUSD', 64225494, 'movz2vvi'\n",
    "EURUSD = dt.fx_rate(pairs, account, pw)\n",
    "EURUSD.head(10)"
   ]
  },
  {
   "cell_type": "code",
   "execution_count": 10,
   "metadata": {},
   "outputs": [
    {
     "data": {
      "text/html": [
       "<div>\n",
       "<style scoped>\n",
       "    .dataframe tbody tr th:only-of-type {\n",
       "        vertical-align: middle;\n",
       "    }\n",
       "\n",
       "    .dataframe tbody tr th {\n",
       "        vertical-align: top;\n",
       "    }\n",
       "\n",
       "    .dataframe thead th {\n",
       "        text-align: right;\n",
       "    }\n",
       "</style>\n",
       "<table border=\"1\" class=\"dataframe\">\n",
       "  <thead>\n",
       "    <tr style=\"text-align: right;\">\n",
       "      <th></th>\n",
       "      <th>time</th>\n",
       "      <th>open</th>\n",
       "      <th>high</th>\n",
       "      <th>low</th>\n",
       "      <th>close</th>\n",
       "      <th>tick_volume</th>\n",
       "      <th>spread</th>\n",
       "      <th>real_volume</th>\n",
       "    </tr>\n",
       "  </thead>\n",
       "  <tbody>\n",
       "    <tr>\n",
       "      <th>26792</th>\n",
       "      <td>2020-02-28 19:00:00</td>\n",
       "      <td>1.10001</td>\n",
       "      <td>1.10087</td>\n",
       "      <td>1.09989</td>\n",
       "      <td>1.10011</td>\n",
       "      <td>2494</td>\n",
       "      <td>1</td>\n",
       "      <td>0</td>\n",
       "    </tr>\n",
       "    <tr>\n",
       "      <th>26793</th>\n",
       "      <td>2020-02-28 19:30:00</td>\n",
       "      <td>1.10011</td>\n",
       "      <td>1.10063</td>\n",
       "      <td>1.09950</td>\n",
       "      <td>1.10012</td>\n",
       "      <td>2384</td>\n",
       "      <td>1</td>\n",
       "      <td>0</td>\n",
       "    </tr>\n",
       "    <tr>\n",
       "      <th>26794</th>\n",
       "      <td>2020-02-28 20:00:00</td>\n",
       "      <td>1.10012</td>\n",
       "      <td>1.10016</td>\n",
       "      <td>1.09903</td>\n",
       "      <td>1.09968</td>\n",
       "      <td>1861</td>\n",
       "      <td>2</td>\n",
       "      <td>0</td>\n",
       "    </tr>\n",
       "    <tr>\n",
       "      <th>26795</th>\n",
       "      <td>2020-02-28 20:30:00</td>\n",
       "      <td>1.09968</td>\n",
       "      <td>1.10057</td>\n",
       "      <td>1.09958</td>\n",
       "      <td>1.10004</td>\n",
       "      <td>1963</td>\n",
       "      <td>2</td>\n",
       "      <td>0</td>\n",
       "    </tr>\n",
       "    <tr>\n",
       "      <th>26796</th>\n",
       "      <td>2020-02-28 21:00:00</td>\n",
       "      <td>1.10004</td>\n",
       "      <td>1.10072</td>\n",
       "      <td>1.09907</td>\n",
       "      <td>1.10036</td>\n",
       "      <td>2003</td>\n",
       "      <td>1</td>\n",
       "      <td>0</td>\n",
       "    </tr>\n",
       "    <tr>\n",
       "      <th>26797</th>\n",
       "      <td>2020-02-28 21:30:00</td>\n",
       "      <td>1.10036</td>\n",
       "      <td>1.10327</td>\n",
       "      <td>1.09926</td>\n",
       "      <td>1.10295</td>\n",
       "      <td>3585</td>\n",
       "      <td>1</td>\n",
       "      <td>0</td>\n",
       "    </tr>\n",
       "    <tr>\n",
       "      <th>26798</th>\n",
       "      <td>2020-02-28 22:00:00</td>\n",
       "      <td>1.10293</td>\n",
       "      <td>1.10400</td>\n",
       "      <td>1.10252</td>\n",
       "      <td>1.10396</td>\n",
       "      <td>2251</td>\n",
       "      <td>1</td>\n",
       "      <td>0</td>\n",
       "    </tr>\n",
       "    <tr>\n",
       "      <th>26799</th>\n",
       "      <td>2020-02-28 22:30:00</td>\n",
       "      <td>1.10396</td>\n",
       "      <td>1.10460</td>\n",
       "      <td>1.10333</td>\n",
       "      <td>1.10378</td>\n",
       "      <td>2519</td>\n",
       "      <td>1</td>\n",
       "      <td>0</td>\n",
       "    </tr>\n",
       "    <tr>\n",
       "      <th>26800</th>\n",
       "      <td>2020-02-28 23:00:00</td>\n",
       "      <td>1.10378</td>\n",
       "      <td>1.10429</td>\n",
       "      <td>1.10244</td>\n",
       "      <td>1.10310</td>\n",
       "      <td>1182</td>\n",
       "      <td>1</td>\n",
       "      <td>0</td>\n",
       "    </tr>\n",
       "    <tr>\n",
       "      <th>26801</th>\n",
       "      <td>2020-02-28 23:30:00</td>\n",
       "      <td>1.10310</td>\n",
       "      <td>1.10398</td>\n",
       "      <td>1.10266</td>\n",
       "      <td>1.10293</td>\n",
       "      <td>748</td>\n",
       "      <td>1</td>\n",
       "      <td>0</td>\n",
       "    </tr>\n",
       "  </tbody>\n",
       "</table>\n",
       "</div>"
      ],
      "text/plain": [
       "                     time     open     high      low    close  tick_volume  \\\n",
       "26792 2020-02-28 19:00:00  1.10001  1.10087  1.09989  1.10011         2494   \n",
       "26793 2020-02-28 19:30:00  1.10011  1.10063  1.09950  1.10012         2384   \n",
       "26794 2020-02-28 20:00:00  1.10012  1.10016  1.09903  1.09968         1861   \n",
       "26795 2020-02-28 20:30:00  1.09968  1.10057  1.09958  1.10004         1963   \n",
       "26796 2020-02-28 21:00:00  1.10004  1.10072  1.09907  1.10036         2003   \n",
       "26797 2020-02-28 21:30:00  1.10036  1.10327  1.09926  1.10295         3585   \n",
       "26798 2020-02-28 22:00:00  1.10293  1.10400  1.10252  1.10396         2251   \n",
       "26799 2020-02-28 22:30:00  1.10396  1.10460  1.10333  1.10378         2519   \n",
       "26800 2020-02-28 23:00:00  1.10378  1.10429  1.10244  1.10310         1182   \n",
       "26801 2020-02-28 23:30:00  1.10310  1.10398  1.10266  1.10293          748   \n",
       "\n",
       "       spread  real_volume  \n",
       "26792       1            0  \n",
       "26793       1            0  \n",
       "26794       2            0  \n",
       "26795       2            0  \n",
       "26796       1            0  \n",
       "26797       1            0  \n",
       "26798       1            0  \n",
       "26799       1            0  \n",
       "26800       1            0  \n",
       "26801       1            0  "
      ]
     },
     "execution_count": 10,
     "metadata": {},
     "output_type": "execute_result"
    }
   ],
   "source": [
    "EURUSD.tail(10)"
   ]
  },
  {
   "cell_type": "markdown",
   "metadata": {},
   "source": [
    "<font color= orange> <font size = 5> 2. Section 2 </font>"
   ]
  },
  {
   "cell_type": "markdown",
   "metadata": {},
   "source": [
    "<font color= orange> <font size = 5> 3. Section 3 </font>"
   ]
  },
  {
   "cell_type": "markdown",
   "metadata": {},
   "source": [
    "### <font color= orange> <font size = 5> 4. Bibliography: </font>\n",
    "\n",
    "<font color= lightgray>\n",
    "\n",
    "+ Villalobos, O, 2021. *Python Project Template*. Available at: https://github.com/OmarVillalobos/python-project. \n",
    "\n",
    "+ ETA, (2022). *United States Department of Labor*. Available at: https://www.dol.gov/agencies/eta \n",
    "(Accessed: November 21, 2022). \n",
    "\n"
   ]
  }
 ],
 "metadata": {
  "kernelspec": {
   "display_name": "base",
   "language": "python",
   "name": "python3"
  },
  "language_info": {
   "codemirror_mode": {
    "name": "ipython",
    "version": 3
   },
   "file_extension": ".py",
   "mimetype": "text/x-python",
   "name": "python",
   "nbconvert_exporter": "python",
   "pygments_lexer": "ipython3",
   "version": "3.8.13"
  },
  "toc": {
   "base_numbering": 1,
   "nav_menu": {},
   "number_sections": true,
   "sideBar": true,
   "skip_h1_title": false,
   "title_cell": "Table of Contents",
   "title_sidebar": "Contents",
   "toc_cell": false,
   "toc_position": {},
   "toc_section_display": true,
   "toc_window_display": false
  },
  "vscode": {
   "interpreter": {
    "hash": "ad2bdc8ecc057115af97d19610ffacc2b4e99fae6737bb82f5d7fb13d2f2c186"
   }
  }
 },
 "nbformat": 4,
 "nbformat_minor": 2
}
